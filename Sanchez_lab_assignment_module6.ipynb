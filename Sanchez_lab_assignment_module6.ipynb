{
  "nbformat": 4,
  "nbformat_minor": 0,
  "metadata": {
    "colab": {
      "provenance": []
    },
    "kernelspec": {
      "name": "python3",
      "display_name": "Python 3"
    }
  },
  "cells": [
    {
      "cell_type": "markdown",
      "metadata": {
        "id": "G0BcK0H_G1Iu"
      },
      "source": [
        "# **AP155 Lab Assignment**\n",
        "## Module 6: Random Process and Monte Carlo Methods\n",
        "\n",
        "_Instructions_: Answer each problem as completely as you can. Discuss **all** your answers as clearly and concisely as possible.\n",
        "\n",
        "_Scoring Criteria_: 50% - *correctness of code*; 50% - *discussion of the code and results*. Maximum score is **100 points**.\n"
      ]
    },
    {
      "cell_type": "markdown",
      "metadata": {
        "id": "PeHZ9kP8JaVR"
      },
      "source": [
        "### Student Information\n",
        "\n",
        "_Full Name (Last Name, First Name)_: Sanchez, Jezreel John \\\n",
        "_Student No._: 2019-06919\\\n",
        "_Section_: HX-1"
      ]
    },
    {
      "cell_type": "markdown",
      "metadata": {
        "id": "Hc183co-J4eI"
      },
      "source": [
        "### Submission Information\n",
        "\n",
        "_Date and Time Submitted (most recent upload)_: 07 December 2023; 12:36 PM\n",
        "\n",
        "**HONOR PLEDGE** I affirm that I have upheld the highest principles of honesty and integrity in my academic work and that this lab assignment is my own work.\n",
        "\n",
        "**Sign here with your full name:** Jezreel John C. Sanchez"
      ]
    },
    {
      "cell_type": "markdown",
      "metadata": {
        "id": "c4UEpIRtGbM2"
      },
      "source": [
        "### Grading Information (c/o Lab Instructor)\n",
        "\n",
        "TOTAL SCORE: **[]**/100\n",
        "\n",
        "Score breakdown:\n",
        "* Problem 1 - []/100\n",
        "\n",
        "_Date and Time Scored (MM/DD/YYYY HH:MM AM/PM):_"
      ]
    },
    {
      "cell_type": "markdown",
      "metadata": {
        "id": "LxWuqiCFMsEh"
      },
      "source": [
        "### PROBLEM 1\n",
        "\n",
        "**The Ising model**\n",
        "\n",
        "_Refer to Exercise 10.9 in the Newman text._ The Ising model is a theoretical model of a magnet. The magnetic potential energy due to the interaction of two dipoles is proportional to their dot product, but in the Ising model this simplifies to just the product $s_i s_j$ for spins on sites $i$ and $j$ of the lattice, since the spins are one-dimensional scalars, not vectors. Then the actual energy of interaction is $-Js_i s_j$, where $J$ is a positive interaction constant. The minus sign ensures that the in- teractions are ferromagnetic, meaning the energy is lower when dipoles are lined up. A ferromagnetic interaction implies that the material will magnetize if given the chance.\n",
        "\n",
        "Normally it is assumed that spins interact only with those that are immediately adjacent to them on the lattice, which gives a total energy for the entire system equal to\n",
        "$$ E = -J \\sum_{\\langle ij \\rangle} s_i s_j,$$\n",
        "where the notation $\\langle ij \\rangle$ indicates a sum over pairs $i,j$ that are adjacent on the lattice. On the square lattice we use in this exercise each spin has four adjacent neighbors with which it interacts, except for the spins at the edges of the lattice, which have either two or three neighbors.\n",
        "\n",
        "Perform a Markov chain Monte Carlo simulation of the Ising model on the square lattice for a system of 20 x 20 spins. You will need to set up variables to hold the value ±1 of the spin on each lattice site, probably using a two-dimensional integer array, and then take the following steps.\n",
        "\n",
        "1. Write a function to calculate the total energy of the system, as given by the equation above. That is, for a given array of values of the spins, go through every pair of adjacent spins and add up the contributions $s_i s_j$ from all of them, then multiply by $-J$. Hint 1: Each unique pair of adjacent spins crops up only once in the sum. Thus there is a term $-Js_1s_2$ if spins 1 and 2 are adjacent to one another, but you do not also need a term $-Js_2s_1$. Hint 2: To make your final program to run in a reasonable amount of time, you will find it helpful if you can work out a way to calculate the energy using Python's ability to do arithmetic with entire arrays at once. If you do the calculation step by step, your program will be significantly slower. *(25 pts.)*\n",
        "\n",
        "2. Now use your function as the basis for a Metropolis-style simulation of the Ising model with $J = 1$ and temperature $T = 1$ in units where the Boltzmann constant $k_B$ is also 1. Initially set the spin variables randomly to ±1, so that on average about a half of them are up and a half down, giving a total magneti- zation of roughly zero. Then choose a spin at random, flip it, and calculate the new energy after it is flipped, and hence also the change in energy as a result of the flip. Then decide whether to accept the flip using the Metropolis acceptance formula, Eq. (10.60). If the move is rejected you will have to flip the spin back to where it was. Otherwise you keep the flipped spip. Now repeat this process for many moves. *(25 pts.)*\n",
        "\n",
        "3. Make a plot of the total magnetization $M = \\sum_i s_i$ of the system as a function of time for a million Monte Carlo steps. You should see that the system develops a \"spontaneous magnetization,\" a nonzero value of the overall magnetization. Hint: While you are working on your program, do shorter runs, of maybe ten thousand steps at a time. Once you have it working properly, do a longer run of a million steps to get the final results. *(25 pts.)*\n",
        "\n",
        "4. Run your program several times and observe the sign of the magnetization that develops, positive or negative. Describe what you find and give a brief explana- tion of what is happening. *(25 pts.)*"
      ]
    },
    {
      "cell_type": "code",
      "metadata": {
        "id": "hMqWOsbIMoUh",
        "colab": {
          "base_uri": "https://localhost:8080/"
        },
        "outputId": "0fa6f022-fdd1-4cec-f03b-5f8e6c52c354"
      },
      "source": [
        "# Importing necessary packages\n",
        "import numpy as np\n",
        "import random as rand\n",
        "import matplotlib.pyplot as plt\n",
        "\n",
        "# Setting seed\n",
        "seed=69420\n",
        "rand.seed(seed)\n",
        "\n",
        "# Side length of magnet\n",
        "N=20\n",
        "\n",
        "# Interaction constant J\n",
        "J=1\n",
        "\n",
        "# Temperature T in units where kb is 1\n",
        "T=1\n",
        "\n",
        "# Boltzmann constant kb\n",
        "kb=1\n",
        "\n",
        "# Defining function that creats the array of spins in the magnet\n",
        "def create_magnet_array(N1=N, N2=N, chance_down=0.5):\n",
        "  \"\"\"\n",
        "  Creates an N1 by N2 array that contains the spin for each site. The chance of\n",
        "  getting a spin down in a particular site is chance_down.\n",
        "  \"\"\"\n",
        "  # Defining array containing spin for each site\n",
        "  magnet_array = np.ones([N1,N2], int)\n",
        "\n",
        "  # Loop that gives us a random distribution of spins for magnet_array\n",
        "  for i in range(N1):\n",
        "    for j in range(N2):\n",
        "      if rand.random()<chance_down:\n",
        "        magnet_array[i][j] = -1\n",
        "\n",
        "  return magnet_array\n",
        "\n",
        "magnet_array = create_magnet_array(chance_down=0.5)\n",
        "\n",
        "print(f\"Array of spins in magnet: \\n {magnet_array}\\n\")\n",
        "print(f\"Magnetization: {np.sum(magnet_array)}\")\n",
        "\n",
        "\n"
      ],
      "execution_count": null,
      "outputs": [
        {
          "output_type": "stream",
          "name": "stdout",
          "text": [
            "Array of spins in magnet: \n",
            " [[ 1 -1  1  1  1 -1  1  1 -1  1 -1 -1 -1  1 -1 -1  1  1 -1  1]\n",
            " [ 1 -1 -1  1 -1  1  1  1  1 -1  1 -1  1 -1  1  1 -1  1  1 -1]\n",
            " [-1  1  1  1  1  1  1  1  1 -1  1 -1  1 -1  1 -1 -1  1 -1 -1]\n",
            " [-1  1  1  1 -1 -1 -1  1 -1  1  1 -1  1 -1 -1 -1 -1  1 -1  1]\n",
            " [-1 -1 -1 -1 -1  1 -1  1 -1 -1 -1 -1 -1 -1 -1  1 -1  1 -1 -1]\n",
            " [ 1 -1 -1 -1  1 -1 -1 -1  1  1  1 -1 -1  1  1 -1 -1 -1  1  1]\n",
            " [-1 -1  1  1 -1  1  1  1  1 -1 -1 -1 -1 -1  1  1 -1  1 -1  1]\n",
            " [-1  1  1 -1 -1  1  1 -1  1  1 -1  1 -1 -1  1  1 -1  1  1  1]\n",
            " [-1  1 -1  1 -1 -1 -1 -1 -1  1 -1  1  1 -1 -1 -1 -1  1  1  1]\n",
            " [ 1 -1  1  1  1 -1 -1  1 -1  1  1  1  1  1 -1 -1 -1  1  1  1]\n",
            " [-1  1  1  1  1  1 -1  1  1  1  1  1 -1  1 -1  1  1 -1 -1 -1]\n",
            " [-1  1  1  1  1 -1  1  1 -1 -1 -1 -1  1  1  1 -1 -1 -1  1 -1]\n",
            " [-1  1  1 -1 -1  1 -1 -1  1 -1 -1 -1  1  1 -1  1 -1  1 -1  1]\n",
            " [ 1  1  1 -1 -1 -1 -1  1  1 -1 -1 -1 -1  1  1  1 -1  1 -1  1]\n",
            " [ 1  1 -1  1  1 -1  1 -1 -1 -1  1 -1  1 -1  1 -1  1  1 -1 -1]\n",
            " [-1 -1  1 -1 -1 -1  1 -1  1 -1 -1 -1 -1 -1 -1  1 -1 -1  1  1]\n",
            " [-1  1  1  1  1 -1 -1  1  1  1 -1  1  1 -1  1  1  1 -1 -1  1]\n",
            " [-1 -1  1  1  1  1  1 -1  1 -1  1  1  1  1  1 -1 -1  1 -1 -1]\n",
            " [ 1  1  1 -1 -1 -1 -1  1  1  1 -1 -1 -1  1 -1 -1  1  1 -1  1]\n",
            " [-1 -1 -1 -1 -1  1  1  1 -1 -1  1  1 -1 -1 -1  1  1  1 -1 -1]]\n",
            "\n",
            "2\n"
          ]
        }
      ]
    },
    {
      "cell_type": "code",
      "source": [
        "# Defining function that computes energy E of the configuration\n",
        "def E_mag(array=magnet_array, _J=J):\n",
        "  \"\"\"\n",
        "  Computes energy of configuration. Only works for rectangular arrays larger than 2 by 2.\n",
        "  \"\"\"\n",
        "  # Vertical length of array\n",
        "  N1 = len(array)\n",
        "\n",
        "  # Horizontal length of array\n",
        "  N2 = len(array[0])\n",
        "\n",
        "  # Initializing sum_vertical and sum_horizontal\n",
        "  sum_vertical = np.zeros(N1)\n",
        "  sum_horizontal = np.zeros(N2)\n",
        "\n",
        "  # We multiply the row of spins to the row of spins below it to get the s1s2 product for spins vertical to one another.\n",
        "  #We don't double up since each row we multiply is a unique pair.\n",
        "  for i in range(N1-1): # This runs from 0 to N-2 inclusive. Going until N-1 inclusive makes the product go out of bounds since there's no next row\n",
        "    sum_vertical += array[i]*array[i+1]\n",
        "\n",
        "  # Here, we multiply spins horizontally adjacent to one another we use a trick that lets us do this in array form\n",
        "  # This loop runs for every row on the array of spins\n",
        "  for i in range(N1):\n",
        "    # This is the crux of the trick, which is explained below\n",
        "    #We initialize the shifted array\n",
        "    array_shift = np.zeros(N2)\n",
        "\n",
        "    # This loop creates the special array we need\n",
        "    for j in range(N2-1): # This lets us leave out the last column since it needs to be zero anyway, as shown in the text below\n",
        "      array_shift[j] = array[i][j]\n",
        "\n",
        "    sum_horizontal += array[i]*array_shift\n",
        "\n",
        "  # Now, we sum all the s1s2 products from both arrays and use array properties in Python to calculate the energy E\n",
        "  E = -J*(np.sum(sum_vertical+sum_horizontal))\n",
        "\n",
        "  return E\n",
        "\n"
      ],
      "metadata": {
        "id": "-VIRGcq1WoIY"
      },
      "execution_count": null,
      "outputs": []
    },
    {
      "cell_type": "markdown",
      "source": [
        "Trick for multiplying horizontally adjacent spins\n",
        "\n",
        "We take advantage of the array product properties using\n",
        "\n",
        "\\\\[\\begin{bmatrix} a & b & c & d & e \\end{bmatrix} \\\\ \\times \\begin{bmatrix} b & c & d & e & 0 \\end{bmatrix} \\\\ =\\begin{bmatrix} ab & bc & cd & de & 0 \\end{bmatrix}\\\\]\n",
        "\n",
        "Since we'll be summing the entries at the end, the zero wont matter, and we have the luxury of preserving the size of the array, which lets us add this to the sum_vertical array."
      ],
      "metadata": {
        "id": "J3IlUT64klvT"
      }
    },
    {
      "cell_type": "code",
      "source": [
        "# In defining E_mag, we took advantage of the following properties of arrays\n",
        "#in Python\n",
        "\n",
        "array1 = np.array([[1,2,3]\n",
        "                   ,[4,5,6]])\n",
        "\n",
        "array2 = np.array([[2,4,6]\n",
        "                   ,[8,10,12]])\n",
        "\n",
        "print(f\"array1:\\n {array1}\")\n",
        "print()\n",
        "print(f\"array2:\\n {array2}\\n\")\n",
        "print(f\"Product: \\n {array1*array2}\")\n",
        "print()\n",
        "print(f\"Sum: \\n {array1+array2}\")\n",
        "print(f\"\\n This adds all the entries inside array1:\\n np.sum(array1) = {np.sum(array1)}\")"
      ],
      "metadata": {
        "colab": {
          "base_uri": "https://localhost:8080/"
        },
        "id": "SLzh_yMKX4kp",
        "outputId": "8076de7a-7b29-45a5-ce4e-e7644388254f"
      },
      "execution_count": null,
      "outputs": [
        {
          "output_type": "stream",
          "name": "stdout",
          "text": [
            "array1:\n",
            " [[1 2 3]\n",
            " [4 5 6]]\n",
            "\n",
            "array2:\n",
            " [[ 2  4  6]\n",
            " [ 8 10 12]]\n",
            "\n",
            "Product: \n",
            " [[ 2  8 18]\n",
            " [32 50 72]]\n",
            "\n",
            "Sum: \n",
            " [[ 3  6  9]\n",
            " [12 15 18]]\n",
            "\n",
            " This adds all the entries inside array1:\n",
            " np.sum(array1) = 21\n"
          ]
        }
      ]
    },
    {
      "cell_type": "code",
      "source": [
        "# Here is our computed energy E\n",
        "E = E_mag(array=magnet_array)\n",
        "\n",
        "print(f\"Energy of configuration: {E}\")"
      ],
      "metadata": {
        "colab": {
          "base_uri": "https://localhost:8080/"
        },
        "id": "G1Gm7zasruSb",
        "outputId": "cdb98694-f9f5-4dc4-f7ca-e7b1b2c8baf3"
      },
      "execution_count": null,
      "outputs": [
        {
          "output_type": "stream",
          "name": "stdout",
          "text": [
            "Energy of configuration: -374.0\n"
          ]
        }
      ]
    },
    {
      "cell_type": "code",
      "source": [
        "# Here, we do a Metropolis-style simulation\n",
        "def sim_Metropolis(array=magnet_array, the_seed=seed, boltzmann=kb, temp=T, steps=10, \\\n",
        "                   use_Ediff=False, use_final_array=False, use_print=False, use_Mag_array=False, **kwargs):\n",
        "  \"\"\"\n",
        "  Given array, the array of spins, and a seed the_seed, outputs Energy of the system\n",
        "  after a steps amount of steps. Can also output Energy difference from initial Energy.\n",
        "\n",
        "  boltzmann gives the Boltzmann constant used (changes based on how you define your units)\n",
        "\n",
        "  temp gives temperature.\n",
        "\n",
        "  use_dE changes output to change in energy from initial state to final state.\n",
        "\n",
        "  use_final_array changes output to array of spins at final state\n",
        "  \"\"\"\n",
        "  rand.seed(the_seed)\n",
        "\n",
        "  # Vertical length of array\n",
        "  N1 = len(array)\n",
        "\n",
        "  # Horizontal length of array\n",
        "  N2 = len(array[0])\n",
        "\n",
        "  # Energy of current state\n",
        "  E_first = E_mag(array=array)\n",
        "\n",
        "  E_now = E_first\n",
        "\n",
        "  # Configuration array of current state\n",
        "  array_now = np.copy(array) # Using np.copy() makes it so that changing this doesn't change array\n",
        "\n",
        "  for step in range(steps):\n",
        "    # Creating Candidate for next state (We'll accept or reject this depending on Eq. 10.60)\n",
        "    # Initizling next state array_next\n",
        "    array_next = np.copy(array_now)\n",
        "\n",
        "    # Selecting random site\n",
        "    row=rand.randrange(N1)\n",
        "    column=rand.randrange(N2)\n",
        "\n",
        "    # Flipping the spin of a random site\n",
        "    array_next[row][column] = -1*array_next[row][column]\n",
        "\n",
        "    # Initializing candidate for next energy E_next\n",
        "    E_next = E_mag(array=array_next)\n",
        "    # Change in Energy\n",
        "    dE = E_next - E_now\n",
        "\n",
        "    # We implement Eq. 10.60 (balance equation) here\n",
        "    if dE <= 0:\n",
        "      # Transition to E_next and array_next if dE is negative or zero\n",
        "      E_now = E_next\n",
        "      array_now = array_next\n",
        "\n",
        "    else:\n",
        "      # Transition to E_next and array_next with probability np.exp(-(dE)/(boltzmann*temp)) if dE is positive\n",
        "      if rand.random() < np.exp(-(dE)/(boltzmann*temp)):\n",
        "        E_now = E_next\n",
        "        array_now = array_next\n",
        "\n",
        "        # We don't need to add an else statement since E_now and array_now are among our outputs\n",
        "\n",
        "        # We don't do anything to E_now and array_now in this case\n",
        "\n",
        "\n",
        "  # This series of conditionals determines if we output energy difference,\n",
        "  #E_now, array at final state, the Magnetization array, or a print summarizing\n",
        "  #results\n",
        "  if use_print == True:\n",
        "    print(f\"Initial Energy: {E_first}\\nFinal Energy: {E_now}\\nEnergy difference: {E_now - E_first}\\nNumber of steps: {steps}\\n\")\n",
        "    print(f\"Final State:\\n {array_now}\\n\")\n",
        "  elif use_Ediff == True:\n",
        "    return (E_now - E_first)\n",
        "\n",
        "  elif use_final_array == True:\n",
        "    return array_now\n",
        "  else:\n",
        "    return E_now\n",
        "\n",
        "sim_Metropolis(array=magnet_array, use_print=True, steps=1000)\n",
        "\n",
        "\n",
        "\n"
      ],
      "metadata": {
        "colab": {
          "base_uri": "https://localhost:8080/"
        },
        "id": "wI4Vl5nRvsvV",
        "outputId": "13024ab8-4e05-450e-ba11-1117fd05d468"
      },
      "execution_count": null,
      "outputs": [
        {
          "output_type": "stream",
          "name": "stdout",
          "text": [
            "Initial Energy: -374.0\n",
            "Final Energy: -602.0\n",
            "Energy difference: -228.0\n",
            "Number of steps: 1000\n",
            "\n",
            "Final State:\n",
            " [[ 1 -1  1  1 -1 -1  1 -1 -1 -1 -1 -1 -1  1  1  1 -1  1  1 -1]\n",
            " [ 1 -1  1  1 -1 -1  1 -1 -1 -1  1 -1 -1 -1  1  1 -1  1  1 -1]\n",
            " [ 1 -1  1  1 -1 -1  1  1 -1  1  1 -1 -1 -1  1 -1 -1  1  1  1]\n",
            " [ 1 -1  1  1 -1  1  1 -1 -1 -1  1 -1 -1 -1 -1 -1 -1  1  1  1]\n",
            " [ 1  1  1  1 -1  1  1 -1  1 -1  1 -1 -1 -1 -1  1 -1  1  1  1]\n",
            " [ 1  1 -1  1 -1  1  1 -1  1 -1  1  1 -1 -1 -1  1 -1  1  1  1]\n",
            " [ 1  1 -1  1 -1 -1  1 -1 -1 -1 -1  1 -1 -1 -1  1 -1  1  1  1]\n",
            " [ 1  1 -1  1  1  1  1 -1 -1 -1 -1  1 -1 -1 -1  1 -1  1  1  1]\n",
            " [-1  1  1  1  1 -1  1 -1  1  1 -1  1 -1 -1  1  1 -1  1 -1  1]\n",
            " [-1 -1  1  1  1 -1 -1 -1  1  1 -1  1 -1 -1  1  1 -1  1 -1  1]\n",
            " [ 1 -1  1  1 -1  1 -1  1  1 -1 -1  1 -1 -1 -1 -1 -1  1 -1  1]\n",
            " [-1 -1  1  1 -1  1 -1  1  1 -1 -1 -1  1  1 -1  1 -1 -1 -1 -1]\n",
            " [-1  1  1  1 -1  1 -1  1  1 -1 -1 -1  1  1  1 -1 -1 -1  1 -1]\n",
            " [-1  1  1  1 -1  1  1  1  1 -1 -1 -1 -1  1  1 -1 -1 -1  1 -1]\n",
            " [-1  1  1  1 -1 -1  1 -1  1 -1 -1 -1 -1 -1  1 -1 -1  1  1 -1]\n",
            " [ 1 -1  1  1 -1 -1 -1  1  1  1 -1 -1  1 -1 -1  1  1  1  1  1]\n",
            " [ 1 -1 -1  1  1 -1 -1 -1  1  1 -1  1  1 -1 -1 -1 -1  1  1  1]\n",
            " [ 1  1 -1  1 -1  1 -1  1  1  1 -1  1  1 -1 -1 -1 -1  1 -1  1]\n",
            " [ 1  1 -1 -1 -1  1 -1  1  1 -1 -1  1  1 -1 -1 -1 -1  1 -1  1]\n",
            " [ 1  1 -1 -1 -1  1  1  1  1 -1 -1  1 -1 -1 -1 -1 -1  1 -1 -1]]\n",
            "\n"
          ]
        }
      ]
    },
    {
      "cell_type": "code",
      "source": [
        "# Number of steps\n",
        "step = 1000000\n",
        "\n",
        "# Simulation at 1 milion steps\n",
        "sim_Metropolis(array=magnet_array, use_print=True, steps=step)"
      ],
      "metadata": {
        "colab": {
          "base_uri": "https://localhost:8080/"
        },
        "id": "cSn45rye8wWX",
        "outputId": "e092e5c0-0cca-4f80-810b-db6e45ee12fd"
      },
      "execution_count": null,
      "outputs": [
        {
          "output_type": "stream",
          "name": "stdout",
          "text": [
            "Initial Energy: -374.0\n",
            "Final Energy: -690.0\n",
            "Energy difference: -316.0\n",
            "Number of steps: 1000000\n",
            "\n",
            "Final State:\n",
            " [[ 1  1 -1 -1  1  1  1  1 -1 -1 -1  1 -1  1 -1 -1 -1 -1 -1  1]\n",
            " [-1  1 -1 -1  1  1  1  1 -1 -1  1  1 -1  1 -1 -1 -1  1 -1  1]\n",
            " [ 1  1 -1 -1  1  1  1  1 -1 -1  1  1 -1  1 -1 -1 -1  1 -1  1]\n",
            " [ 1  1 -1 -1  1  1  1  1 -1 -1  1  1 -1  1 -1 -1 -1 -1 -1 -1]\n",
            " [ 1  1 -1  1  1 -1  1  1 -1 -1  1  1 -1  1 -1  1 -1 -1 -1 -1]\n",
            " [ 1  1 -1  1  1 -1  1  1 -1 -1  1  1 -1  1 -1  1 -1  1 -1 -1]\n",
            " [ 1  1 -1  1  1 -1  1 -1 -1 -1  1  1 -1  1 -1  1 -1  1 -1 -1]\n",
            " [ 1  1 -1  1  1 -1  1 -1 -1  1  1  1 -1  1 -1  1 -1  1 -1 -1]\n",
            " [ 1 -1 -1  1  1 -1  1 -1  1 -1  1  1 -1  1 -1 -1 -1  1 -1 -1]\n",
            " [ 1 -1 -1  1  1 -1  1 -1  1  1 -1  1 -1  1 -1 -1 -1  1 -1 -1]\n",
            " [ 1 -1 -1  1  1 -1  1 -1  1  1 -1  1 -1  1  1 -1 -1  1 -1 -1]\n",
            " [ 1 -1 -1  1  1 -1  1  1  1  1 -1 -1 -1  1 -1 -1  1  1 -1 -1]\n",
            " [ 1 -1 -1  1  1 -1  1 -1  1  1 -1 -1 -1  1  1 -1  1  1 -1 -1]\n",
            " [ 1 -1 -1  1  1  1  1 -1  1  1 -1 -1 -1  1  1 -1  1  1 -1 -1]\n",
            " [ 1 -1 -1  1  1  1  1 -1  1  1 -1 -1  1  1  1 -1  1  1 -1 -1]\n",
            " [ 1 -1 -1  1  1  1  1 -1  1  1 -1 -1  1  1  1 -1  1  1 -1 -1]\n",
            " [ 1 -1 -1  1  1  1  1 -1  1  1 -1 -1  1  1 -1 -1  1  1 -1 -1]\n",
            " [ 1 -1 -1  1  1 -1  1 -1  1  1 -1 -1  1  1 -1  1  1  1 -1 -1]\n",
            " [ 1 -1 -1  1  1 -1  1 -1  1 -1 -1 -1  1 -1 -1  1  1 -1 -1 -1]\n",
            " [ 1 -1 -1  1  1 -1  1 -1  1 -1 -1 -1  1 -1  1  1  1 -1  1 -1]]\n",
            "\n"
          ]
        }
      ]
    },
    {
      "cell_type": "markdown",
      "source": [
        "We can see here that the energy difference tends towards some negative number. This is not surprising given the nature of Equation 10.60, the probability of acceptance:\n",
        "\n",
        "\\\\[P_{a} = \\begin{cases} 1 & \\text{if } (E_{next} - E_{now}) ≤ 0\\\\ exp(-\\frac{E_{next}-E_{now}}{k_b T}) & \\text{if } (E_{next} - E_{now}) > 0 \\end{cases} \\\\]\n",
        "\n",
        "Here, we can see that there is a preference for the energy difference between the next state and the previous one to be negative, or for the next state to be at a lower energy compared to the previous one (the first case of \\\\(P_a\\\\) introduces this heavy preference) even in the midst of some random fluctuations (whose probabilities are dictated by \\\\(exp(-\\frac{E_{next}-E_{now}}{k_b T})\\\\), the second case)."
      ],
      "metadata": {
        "id": "Tl9XyjnfK-80"
      }
    },
    {
      "cell_type": "code",
      "source": [
        "# Number of steps\n",
        "step = 1000000\n",
        "\n",
        "# I'll reuse most of the sim_Metropolis() code here. Putting magnetization functionality to sim_Metropolis makes Google Colab run out of memory\n",
        "def sim_Mag(array=magnet_array, the_seed=seed, boltzmann=kb, temp=T, steps=10, **kwargs):\n",
        "  \"\"\"\n",
        "  Given array, the array of spins, and a seed the_seed, outputs Energy of the system\n",
        "  after a steps amount of steps. Can also output Energy difference from initial Energy.\n",
        "\n",
        "  boltzmann gives the Boltzmann constant used (changes based on how you define your units)\n",
        "\n",
        "  temp gives temperature\n",
        "  \"\"\"\n",
        "  rand.seed(the_seed)\n",
        "\n",
        "  # Vertical length of array\n",
        "  N1 = len(array)\n",
        "\n",
        "  # Horizontal length of array\n",
        "  N2 = len(array[0])\n",
        "\n",
        "  # Energy of current state\n",
        "  E_first = E_mag(array=array)\n",
        "\n",
        "  E_now = E_first\n",
        "\n",
        "  # Magnetization Array\n",
        "  Mag_array = []\n",
        "  Mag_array.append(np.sum(array))\n",
        "\n",
        "  # Configuration array of current state\n",
        "  array_now = np.copy(array) # Using np.copy() makes it so that changing this doesn't change array\n",
        "\n",
        "  for step in range(steps):\n",
        "    # Creating Candidate for next state (We'll accept or reject this depending on Eq. 10.60)\n",
        "    # Initizling next state array_next\n",
        "    array_next = np.copy(array_now)\n",
        "\n",
        "    # Selecting random site\n",
        "    row=rand.randrange(N1)\n",
        "    column=rand.randrange(N2)\n",
        "\n",
        "    # Flipping the spin of a random site\n",
        "    array_next[row][column] = -1*array_next[row][column]\n",
        "\n",
        "    # Initializing candidate for next energy E_next\n",
        "    E_next = E_mag(array=array_next)\n",
        "    # Change in Energy\n",
        "    dE = E_next - E_now\n",
        "\n",
        "    # We implement Eq. 10.60 (balance equation) here\n",
        "    if dE <= 0:\n",
        "      # Transition to E_next and array_next if dE is negative or zero\n",
        "      E_now = E_next\n",
        "      array_now = array_next\n",
        "\n",
        "      # Append Magnetization of new state to Mag_array\n",
        "      Mag_array.append(np.sum(array_now))\n",
        "\n",
        "    else:\n",
        "      # Transition to E_next and array_next with probability np.exp(-(dE)/(boltzmann*temp)) if dE is positive\n",
        "      if rand.random() < np.exp(-(dE)/(boltzmann*temp)):\n",
        "        E_now = E_next\n",
        "        array_now = array_next\n",
        "\n",
        "        # Append Magnetization of new state to Mag_array\n",
        "        Mag_array.append(np.sum(array_now))\n",
        "\n",
        "      else:\n",
        "        # Append Magnetization of new state to Mag_array\n",
        "        Mag_array.append(np.sum(array_now))\n",
        "\n",
        "        # We don't do anything to E_now and array_now in this case\n",
        "\n",
        "  else:\n",
        "    return Mag_array\n",
        "\n",
        "# Magnetization for 1 milion steps\n",
        "Mag_array = sim_Mag(array=magnet_array, steps=step)\n",
        "\n",
        "# Time array (measured in steps)\n",
        "t_array = np.linspace(start=0, stop=step-1, num=step)\n",
        "\n",
        "print(f\"Steps:{step}\\nMagnetization:\\n {Mag_array}\")\n"
      ],
      "metadata": {
        "colab": {
          "base_uri": "https://localhost:8080/",
          "height": 390
        },
        "id": "bXWmG8yAOd93",
        "outputId": "8eda87a1-5ce7-443e-9b1d-16caa1676d44"
      },
      "execution_count": 106,
      "outputs": [
        {
          "output_type": "error",
          "ename": "KeyboardInterrupt",
          "evalue": "ignored",
          "traceback": [
            "\u001b[0;31m---------------------------------------------------------------------------\u001b[0m",
            "\u001b[0;31mKeyboardInterrupt\u001b[0m                         Traceback (most recent call last)",
            "\u001b[0;32m<ipython-input-106-851cb789777a>\u001b[0m in \u001b[0;36m<cell line: 79>\u001b[0;34m()\u001b[0m\n\u001b[1;32m     77\u001b[0m \u001b[0;34m\u001b[0m\u001b[0m\n\u001b[1;32m     78\u001b[0m \u001b[0;31m# Magnetization for 1 milion steps\u001b[0m\u001b[0;34m\u001b[0m\u001b[0;34m\u001b[0m\u001b[0m\n\u001b[0;32m---> 79\u001b[0;31m \u001b[0mMag_array\u001b[0m \u001b[0;34m=\u001b[0m \u001b[0msim_Mag\u001b[0m\u001b[0;34m(\u001b[0m\u001b[0marray\u001b[0m\u001b[0;34m=\u001b[0m\u001b[0mmagnet_array\u001b[0m\u001b[0;34m,\u001b[0m \u001b[0msteps\u001b[0m\u001b[0;34m=\u001b[0m\u001b[0mstep\u001b[0m\u001b[0;34m)\u001b[0m\u001b[0;34m\u001b[0m\u001b[0;34m\u001b[0m\u001b[0m\n\u001b[0m\u001b[1;32m     80\u001b[0m \u001b[0;34m\u001b[0m\u001b[0m\n\u001b[1;32m     81\u001b[0m \u001b[0;31m# Time array (measured in steps)\u001b[0m\u001b[0;34m\u001b[0m\u001b[0;34m\u001b[0m\u001b[0m\n",
            "\u001b[0;32m<ipython-input-106-851cb789777a>\u001b[0m in \u001b[0;36msim_Mag\u001b[0;34m(array, the_seed, boltzmann, temp, steps, **kwargs)\u001b[0m\n\u001b[1;32m     45\u001b[0m \u001b[0;34m\u001b[0m\u001b[0m\n\u001b[1;32m     46\u001b[0m     \u001b[0;31m# Initializing candidate for next energy E_next\u001b[0m\u001b[0;34m\u001b[0m\u001b[0;34m\u001b[0m\u001b[0m\n\u001b[0;32m---> 47\u001b[0;31m     \u001b[0mE_next\u001b[0m \u001b[0;34m=\u001b[0m \u001b[0mE_mag\u001b[0m\u001b[0;34m(\u001b[0m\u001b[0marray\u001b[0m\u001b[0;34m=\u001b[0m\u001b[0marray_next\u001b[0m\u001b[0;34m)\u001b[0m\u001b[0;34m\u001b[0m\u001b[0;34m\u001b[0m\u001b[0m\n\u001b[0m\u001b[1;32m     48\u001b[0m     \u001b[0;31m# Change in Energy\u001b[0m\u001b[0;34m\u001b[0m\u001b[0;34m\u001b[0m\u001b[0m\n\u001b[1;32m     49\u001b[0m     \u001b[0mdE\u001b[0m \u001b[0;34m=\u001b[0m \u001b[0mE_next\u001b[0m \u001b[0;34m-\u001b[0m \u001b[0mE_now\u001b[0m\u001b[0;34m\u001b[0m\u001b[0;34m\u001b[0m\u001b[0m\n",
            "\u001b[0;32m<ipython-input-93-eeac434528a0>\u001b[0m in \u001b[0;36mE_mag\u001b[0;34m(array, _J)\u001b[0m\n\u001b[1;32m     28\u001b[0m     \u001b[0;31m# This loop creates the special array we need\u001b[0m\u001b[0;34m\u001b[0m\u001b[0;34m\u001b[0m\u001b[0m\n\u001b[1;32m     29\u001b[0m     \u001b[0;32mfor\u001b[0m \u001b[0mj\u001b[0m \u001b[0;32min\u001b[0m \u001b[0mrange\u001b[0m\u001b[0;34m(\u001b[0m\u001b[0mN2\u001b[0m\u001b[0;34m-\u001b[0m\u001b[0;36m1\u001b[0m\u001b[0;34m)\u001b[0m\u001b[0;34m:\u001b[0m \u001b[0;31m# This lets us leave out the last column since it needs to be zero anyway, as shown in the text below\u001b[0m\u001b[0;34m\u001b[0m\u001b[0;34m\u001b[0m\u001b[0m\n\u001b[0;32m---> 30\u001b[0;31m       \u001b[0marray_shift\u001b[0m\u001b[0;34m[\u001b[0m\u001b[0mj\u001b[0m\u001b[0;34m]\u001b[0m \u001b[0;34m=\u001b[0m \u001b[0marray\u001b[0m\u001b[0;34m[\u001b[0m\u001b[0mi\u001b[0m\u001b[0;34m]\u001b[0m\u001b[0;34m[\u001b[0m\u001b[0mj\u001b[0m\u001b[0;34m]\u001b[0m\u001b[0;34m\u001b[0m\u001b[0;34m\u001b[0m\u001b[0m\n\u001b[0m\u001b[1;32m     31\u001b[0m \u001b[0;34m\u001b[0m\u001b[0m\n\u001b[1;32m     32\u001b[0m     \u001b[0msum_horizontal\u001b[0m \u001b[0;34m+=\u001b[0m \u001b[0marray\u001b[0m\u001b[0;34m[\u001b[0m\u001b[0mi\u001b[0m\u001b[0;34m]\u001b[0m\u001b[0;34m*\u001b[0m\u001b[0marray_shift\u001b[0m\u001b[0;34m\u001b[0m\u001b[0;34m\u001b[0m\u001b[0m\n",
            "\u001b[0;31mKeyboardInterrupt\u001b[0m: "
          ]
        }
      ]
    },
    {
      "cell_type": "code",
      "source": [
        "# PLOTTING\n",
        "\n",
        "#Plot settings function\n",
        "def plot_settings(figure, axes, x,y, xlabel=\"x\", ylabel=\"y\", color=\"blue\", title=\"\", \\\n",
        "                  use_xlimit=False, use_ylimit=False, xlim1=0, xlim2=100, ylim1=-10, ylim2=10, \\\n",
        "                  marker=\"o\", markersize=5, linestyle=\"--\", label=\"\", **kwargs):\n",
        "  \"\"\"\n",
        "  Plots specified arrays.\n",
        "\n",
        "  xlabel and ylabel sets the labels of the respective axes.\n",
        "  use_xlimit/use_ylimit toggles whether or not plt.xlim()/plt.ylim would be used, where xlim1/ylim1 and\n",
        "  xlim2/ylim2 are its parameters.\n",
        "  \"\"\"\n",
        "  axes.plot(x,y, marker=marker, markersize=markersize, linestyle=linestyle, color=color, label=label)\n",
        "\n",
        "  plt.title(title)\n",
        "  axes.set_xlabel(xlabel)\n",
        "  axes.set_ylabel(ylabel)\n",
        "\n",
        "  # These if statements are for incase we want to change the limits of the graph\n",
        "  if use_xlimit == True:\n",
        "   plt.xlim(xlim1, xlim2)\n",
        "   if use_ylimit == True:\n",
        "     plt.ylim(ylim1, ylim2)\n",
        "\n",
        "  if use_ylimit == True:\n",
        "    plt.ylim(ylim1, ylim2)\n",
        "    if use_xlimit == True:\n",
        "      plt.xlim(xlim1, xlim2)\n",
        "\n",
        "\n",
        "fig, ax = plt.subplots()\n",
        "\n",
        "plot_settings(fig,ax,t_array,Mag_array, xlabel=\"steps\", ylabel=\"Magnetization\", \\\n",
        "              color=\"limegreen\", title=\"Fig 1. Magnetization at each step\", markersize=3, linestyle=\"Solid\")\n",
        "\n",
        "plt.show()\n"
      ],
      "metadata": {
        "id": "Vw-tctFwbA0A",
        "colab": {
          "base_uri": "https://localhost:8080/",
          "height": 808
        },
        "outputId": "ff1c6e51-b524-44d2-e887-bf5cc6e3d334"
      },
      "execution_count": 105,
      "outputs": [
        {
          "output_type": "error",
          "ename": "ValueError",
          "evalue": "ignored",
          "traceback": [
            "\u001b[0;31m---------------------------------------------------------------------------\u001b[0m",
            "\u001b[0;31mValueError\u001b[0m                                Traceback (most recent call last)",
            "\u001b[0;32m<ipython-input-105-6882235d4425>\u001b[0m in \u001b[0;36m<cell line: 34>\u001b[0;34m()\u001b[0m\n\u001b[1;32m     32\u001b[0m \u001b[0mfig\u001b[0m\u001b[0;34m,\u001b[0m \u001b[0max\u001b[0m \u001b[0;34m=\u001b[0m \u001b[0mplt\u001b[0m\u001b[0;34m.\u001b[0m\u001b[0msubplots\u001b[0m\u001b[0;34m(\u001b[0m\u001b[0;34m)\u001b[0m\u001b[0;34m\u001b[0m\u001b[0;34m\u001b[0m\u001b[0m\n\u001b[1;32m     33\u001b[0m \u001b[0;34m\u001b[0m\u001b[0m\n\u001b[0;32m---> 34\u001b[0;31m plot_settings(fig,ax,t_array,Mag_array, xlabel=\"steps\", ylabel=\"Magnetization\", \\\n\u001b[0m\u001b[1;32m     35\u001b[0m               color=\"limegreen\", title=\"Fig 1. Magnetization at each step\", markersize=3, linestyle=\"Solid\")\n\u001b[1;32m     36\u001b[0m \u001b[0;34m\u001b[0m\u001b[0m\n",
            "\u001b[0;32m<ipython-input-105-6882235d4425>\u001b[0m in \u001b[0;36mplot_settings\u001b[0;34m(figure, axes, x, y, xlabel, ylabel, color, title, use_xlimit, use_ylimit, xlim1, xlim2, ylim1, ylim2, marker, markersize, linestyle, label, **kwargs)\u001b[0m\n\u001b[1;32m     12\u001b[0m   \u001b[0mxlim2\u001b[0m\u001b[0;34m/\u001b[0m\u001b[0mylim2\u001b[0m \u001b[0mare\u001b[0m \u001b[0mits\u001b[0m \u001b[0mparameters\u001b[0m\u001b[0;34m.\u001b[0m\u001b[0;34m\u001b[0m\u001b[0;34m\u001b[0m\u001b[0m\n\u001b[1;32m     13\u001b[0m   \"\"\"\n\u001b[0;32m---> 14\u001b[0;31m   \u001b[0maxes\u001b[0m\u001b[0;34m.\u001b[0m\u001b[0mplot\u001b[0m\u001b[0;34m(\u001b[0m\u001b[0mx\u001b[0m\u001b[0;34m,\u001b[0m\u001b[0my\u001b[0m\u001b[0;34m,\u001b[0m \u001b[0mmarker\u001b[0m\u001b[0;34m=\u001b[0m\u001b[0mmarker\u001b[0m\u001b[0;34m,\u001b[0m \u001b[0mmarkersize\u001b[0m\u001b[0;34m=\u001b[0m\u001b[0mmarkersize\u001b[0m\u001b[0;34m,\u001b[0m \u001b[0mlinestyle\u001b[0m\u001b[0;34m=\u001b[0m\u001b[0mlinestyle\u001b[0m\u001b[0;34m,\u001b[0m \u001b[0mcolor\u001b[0m\u001b[0;34m=\u001b[0m\u001b[0mcolor\u001b[0m\u001b[0;34m,\u001b[0m \u001b[0mlabel\u001b[0m\u001b[0;34m=\u001b[0m\u001b[0mlabel\u001b[0m\u001b[0;34m)\u001b[0m\u001b[0;34m\u001b[0m\u001b[0;34m\u001b[0m\u001b[0m\n\u001b[0m\u001b[1;32m     15\u001b[0m \u001b[0;34m\u001b[0m\u001b[0m\n\u001b[1;32m     16\u001b[0m   \u001b[0mplt\u001b[0m\u001b[0;34m.\u001b[0m\u001b[0mtitle\u001b[0m\u001b[0;34m(\u001b[0m\u001b[0mtitle\u001b[0m\u001b[0;34m)\u001b[0m\u001b[0;34m\u001b[0m\u001b[0;34m\u001b[0m\u001b[0m\n",
            "\u001b[0;32m/usr/local/lib/python3.10/dist-packages/matplotlib/axes/_axes.py\u001b[0m in \u001b[0;36mplot\u001b[0;34m(self, scalex, scaley, data, *args, **kwargs)\u001b[0m\n\u001b[1;32m   1686\u001b[0m         \"\"\"\n\u001b[1;32m   1687\u001b[0m         \u001b[0mkwargs\u001b[0m \u001b[0;34m=\u001b[0m \u001b[0mcbook\u001b[0m\u001b[0;34m.\u001b[0m\u001b[0mnormalize_kwargs\u001b[0m\u001b[0;34m(\u001b[0m\u001b[0mkwargs\u001b[0m\u001b[0;34m,\u001b[0m \u001b[0mmlines\u001b[0m\u001b[0;34m.\u001b[0m\u001b[0mLine2D\u001b[0m\u001b[0;34m)\u001b[0m\u001b[0;34m\u001b[0m\u001b[0;34m\u001b[0m\u001b[0m\n\u001b[0;32m-> 1688\u001b[0;31m         \u001b[0mlines\u001b[0m \u001b[0;34m=\u001b[0m \u001b[0;34m[\u001b[0m\u001b[0;34m*\u001b[0m\u001b[0mself\u001b[0m\u001b[0;34m.\u001b[0m\u001b[0m_get_lines\u001b[0m\u001b[0;34m(\u001b[0m\u001b[0;34m*\u001b[0m\u001b[0margs\u001b[0m\u001b[0;34m,\u001b[0m \u001b[0mdata\u001b[0m\u001b[0;34m=\u001b[0m\u001b[0mdata\u001b[0m\u001b[0;34m,\u001b[0m \u001b[0;34m**\u001b[0m\u001b[0mkwargs\u001b[0m\u001b[0;34m)\u001b[0m\u001b[0;34m]\u001b[0m\u001b[0;34m\u001b[0m\u001b[0;34m\u001b[0m\u001b[0m\n\u001b[0m\u001b[1;32m   1689\u001b[0m         \u001b[0;32mfor\u001b[0m \u001b[0mline\u001b[0m \u001b[0;32min\u001b[0m \u001b[0mlines\u001b[0m\u001b[0;34m:\u001b[0m\u001b[0;34m\u001b[0m\u001b[0;34m\u001b[0m\u001b[0m\n\u001b[1;32m   1690\u001b[0m             \u001b[0mself\u001b[0m\u001b[0;34m.\u001b[0m\u001b[0madd_line\u001b[0m\u001b[0;34m(\u001b[0m\u001b[0mline\u001b[0m\u001b[0;34m)\u001b[0m\u001b[0;34m\u001b[0m\u001b[0;34m\u001b[0m\u001b[0m\n",
            "\u001b[0;32m/usr/local/lib/python3.10/dist-packages/matplotlib/axes/_base.py\u001b[0m in \u001b[0;36m__call__\u001b[0;34m(self, data, *args, **kwargs)\u001b[0m\n\u001b[1;32m    309\u001b[0m                 \u001b[0mthis\u001b[0m \u001b[0;34m+=\u001b[0m \u001b[0margs\u001b[0m\u001b[0;34m[\u001b[0m\u001b[0;36m0\u001b[0m\u001b[0;34m]\u001b[0m\u001b[0;34m,\u001b[0m\u001b[0;34m\u001b[0m\u001b[0;34m\u001b[0m\u001b[0m\n\u001b[1;32m    310\u001b[0m                 \u001b[0margs\u001b[0m \u001b[0;34m=\u001b[0m \u001b[0margs\u001b[0m\u001b[0;34m[\u001b[0m\u001b[0;36m1\u001b[0m\u001b[0;34m:\u001b[0m\u001b[0;34m]\u001b[0m\u001b[0;34m\u001b[0m\u001b[0;34m\u001b[0m\u001b[0m\n\u001b[0;32m--> 311\u001b[0;31m             yield from self._plot_args(\n\u001b[0m\u001b[1;32m    312\u001b[0m                 this, kwargs, ambiguous_fmt_datakey=ambiguous_fmt_datakey)\n\u001b[1;32m    313\u001b[0m \u001b[0;34m\u001b[0m\u001b[0m\n",
            "\u001b[0;32m/usr/local/lib/python3.10/dist-packages/matplotlib/axes/_base.py\u001b[0m in \u001b[0;36m_plot_args\u001b[0;34m(self, tup, kwargs, return_kwargs, ambiguous_fmt_datakey)\u001b[0m\n\u001b[1;32m    502\u001b[0m \u001b[0;34m\u001b[0m\u001b[0m\n\u001b[1;32m    503\u001b[0m         \u001b[0;32mif\u001b[0m \u001b[0mx\u001b[0m\u001b[0;34m.\u001b[0m\u001b[0mshape\u001b[0m\u001b[0;34m[\u001b[0m\u001b[0;36m0\u001b[0m\u001b[0;34m]\u001b[0m \u001b[0;34m!=\u001b[0m \u001b[0my\u001b[0m\u001b[0;34m.\u001b[0m\u001b[0mshape\u001b[0m\u001b[0;34m[\u001b[0m\u001b[0;36m0\u001b[0m\u001b[0;34m]\u001b[0m\u001b[0;34m:\u001b[0m\u001b[0;34m\u001b[0m\u001b[0;34m\u001b[0m\u001b[0m\n\u001b[0;32m--> 504\u001b[0;31m             raise ValueError(f\"x and y must have same first dimension, but \"\n\u001b[0m\u001b[1;32m    505\u001b[0m                              f\"have shapes {x.shape} and {y.shape}\")\n\u001b[1;32m    506\u001b[0m         \u001b[0;32mif\u001b[0m \u001b[0mx\u001b[0m\u001b[0;34m.\u001b[0m\u001b[0mndim\u001b[0m \u001b[0;34m>\u001b[0m \u001b[0;36m2\u001b[0m \u001b[0;32mor\u001b[0m \u001b[0my\u001b[0m\u001b[0;34m.\u001b[0m\u001b[0mndim\u001b[0m \u001b[0;34m>\u001b[0m \u001b[0;36m2\u001b[0m\u001b[0;34m:\u001b[0m\u001b[0;34m\u001b[0m\u001b[0;34m\u001b[0m\u001b[0m\n",
            "\u001b[0;31mValueError\u001b[0m: x and y must have same first dimension, but have shapes (1000000,) and (1000001,)"
          ]
        },
        {
          "output_type": "display_data",
          "data": {
            "text/plain": [
              "<Figure size 640x480 with 1 Axes>"
            ],
            "image/png": "[encoded data removed]"
          },
          "metadata": {}
        }
      ]
    }
  ]
}