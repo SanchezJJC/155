{
 "cells": [
  {
   "cell_type": "markdown",
   "metadata": {
    "id": "G0BcK0H_G1Iu"
   },
   "source": [
    "# **AP155 Lab Assignment**\n",
    "## Module 2: Solution of Linear and Nonlinear Equations\n",
    "\n",
    "_Instructions_: Answer each problem as completely as you can. Discuss **all** your answers as clearly and concisely as possible.\n",
    "\n",
    "_Scoring Criteria_: 50% - *correctness of code*; 50% - *discussion of the code and results*. Maximum score is **100 points**.\n",
    "\n"
   ]
  },
  {
   "cell_type": "markdown",
   "metadata": {
    "id": "PeHZ9kP8JaVR"
   },
   "source": [
    "### Student Information\n",
    "\n",
    "_Full Name (Last Name, First Name)_: Sanchez, Jezreel John\\\n",
    "_Student No._: 2019-06919\\\n",
    "_Section_: HX-1"
   ]
  },
  {
   "cell_type": "markdown",
   "metadata": {
    "id": "Hc183co-J4eI"
   },
   "source": [
    "### Submission Information\n",
    "\n",
    "_Date and Time Submitted (most recent upload)_: 09 November 2023; 1:25 am\n",
    "\n",
    "**HONOR PLEDGE** I affirm that I have upheld the highest principles of honesty and integrity in my academic work and that this lab assignment is my own work.\n",
    "\n",
    "**Sign here with your full name:** Sanchez, Jezreel John C."
   ]
  },
  {
   "cell_type": "markdown",
   "metadata": {
    "id": "4LUwfsfMBmvd"
   },
   "source": [
    "### Grading Information (c/o Lab Instructor)\n",
    "\n",
    "TOTAL SCORE: **98**/100\n",
    "\n",
    "Score breakdown:\n",
    "* Problem 1 - 28/30\n",
    "* Problem 2 - 30/30\n",
    "* Problem 3 - 40/40\n",
    "\n"
   ]
  },
  {
   "cell_type": "markdown",
   "metadata": {
    "id": "kBX9EyMLOnXj"
   },
   "source": [
    "### PROBLEM 1\n",
    "\n",
    "**Solve for eigenvalues and eigenvectors of a symmetric matrix**\n",
    "\n",
    "1. Use numpy's $\\tt linalg$ package to find the eigenvalues and eigenvectors of the ff. symmetrix matrix *(15 pts.)*:\n",
    "\n",
    "$ \\begin{equation}\n",
    "{\\bf A} =\n",
    "\\begin{pmatrix}\n",
    "8 & -2 & -20 \\\\\n",
    "-2 & -3 & -9 \\\\\n",
    "-20 & -9 & -3\n",
    "\\end{pmatrix} \\end{equation} $\n",
    "\n",
    "2. Check your answer numerically; that is, check that $\\bf AV = VD$, where the $N$ x $N$ matrix $\\bf V$ has the eigenvectors as its columns and $\\bf D$ is the diagonal matrix with the eigenvalues $\\lambda_i$ as its diagonal entries. *(15 pts.)*"
   ]
  },
  {
   "cell_type": "code",
   "execution_count": null,
   "metadata": {
    "colab": {
     "base_uri": "https://localhost:8080/"
    },
    "id": "GABjwlXCR97i",
    "outputId": "a701233c-f00c-4f24-d65f-41e859ae4f44"
   },
   "outputs": [
    {
     "name": "stdout",
     "output_type": "stream",
     "text": [
      "eigenvalues: \n",
      "[-21.99606195   0.16021522  23.83584674]\n",
      "\n",
      "eigenvectors (columns): \n",
      "[[ 0.52496527  0.36793396 -0.76748685]\n",
      " [ 0.40892672 -0.89987151 -0.15169114]\n",
      " [ 0.74645187  0.2342133   0.62285932]]\n",
      "\n",
      "AV - VD: \n",
      "[[ 1.77635684e-15  5.96744876e-16  0.00000000e+00]\n",
      " [-1.77635684e-15 -1.05471187e-15  1.33226763e-15]\n",
      " [ 3.55271368e-15 -4.37150316e-16  8.88178420e-15]]\n",
      "\n"
     ]
    }
   ],
   "source": [
    "# COMPUTING FOR THE EIGENVALUES AND EIGENVECTORS\n",
    "\n",
    "# Importing necessary packages\n",
    "import numpy as np\n",
    "\n",
    "# Defining matrix A\n",
    "A = np.array(\n",
    "              [[8, -2, -20],\n",
    "              [-2, -3, -9],\n",
    "              [-20, -9, -3]]\n",
    "            )\n",
    "\n",
    "# Creating eigen value column vector x and matrix V whose columns are\n",
    "#eigenvectors of A. We use eigh to make the program run faster given that\n",
    "#we're dealing with a Hermitian matrix\n",
    "x, V = np.linalg.eigh(A)\n",
    "\n",
    "print(f\"eigenvalues: \\n{x}\\n\")\n",
    "print(f\"eigenvectors (columns): \\n{V}\\n\")\n",
    "\n",
    "#-------------------------------------------------------------------------------\n",
    "\n",
    "# CHECKING IF EIGENVALUES AND EIGENVECTORS ARE CORRECT\n",
    "\n",
    "# Defining matrix product AV\n",
    "AV = np.matmul(A,V)\n",
    "\n",
    "# Getting the shape (# of rows and columns) of A\n",
    "#Since A is a square matrix, we can just need 1 number to specify its shape\n",
    "N = len(A) # gets the # of rows A has, w/c is the same as the # of columns\n",
    "\n",
    "# Defining diagonal matrix D\n",
    "D = np.zeros((N, N)) # we want D to have the same shape as A\n",
    "\n",
    "# Setting the diagonals to be the eigenvalues\n",
    "#range goes from 0 to N-1=2 inclusive, which works for us given zero indexing\n",
    "for m in range(N):\n",
    "  D[m][m] = x[m]\n",
    "\n",
    "\n",
    "# Defining matrix product VD\n",
    "VD = np.matmul(V,D)\n",
    "\n",
    "# The equation above is  equivalent to AV - DV = 0, so we can check our results\n",
    "#using that instead\n",
    "\n",
    "Result = AV - VD\n",
    "\n",
    "print(f\"AV - VD: \\n{Result}\\n\")\n"
   ]
  },
  {
   "cell_type": "markdown",
   "metadata": {
    "id": "FNkeg1SjgUuO"
   },
   "source": [
    "The results show that $AV - VD$ is a non-zero matrix, but the entries in each matrix is roughly zero (save for element $(1,3)$ which is exactly zero) given that their order of magnitude is $10^{-15}$ or $10^{-16}$. This is error is likely due to the limitations imposed by the machine's precision.  "
   ]
  },
  {
   "cell_type": "markdown",
   "metadata": {},
   "source": [
    "----------------\n",
    "### Instructor Notes\n",
    "\n",
    "Elaborate more on this computational limitation. Refer to Module 0.\n",
    "This looks like a Spyder implementation (one whole chunk of code in one cell), you might want to leverage jupyter notebook's code blocks as it eases out future debugging. "
   ]
  },
  {
   "cell_type": "markdown",
   "metadata": {
    "id": "HceOjNu-VfN9"
   },
   "source": [
    "### PROBLEM 2\n",
    "\n",
    "**Solve a nonlinear equation using the relaxation method**\n",
    "\n",
    "Consider the equation $x=1- e^{-cx}$, where $c$ is a known parameter and $x$ is unknown. This equation arises in a variety of situations, including the physics of contact processes, mathematical models of epidemics, and the theory of random graphs.\n",
    "\n",
    "1. Write a program to solve this equation for $x$ using the relaxation method for the case $c = 2$. Calculate your solution to an accuracy of at least $10^{-6}$. *(10 pts.)*\n",
    "\n",
    "2. Modify your program to calculate the solution for values of $c$ from 0 to 3 in steps of 0.01. *(10 pts.)*\n",
    "\n",
    "3. Make a plot of $x$ as a function of $c$. Describe the different regimes that you see. *(10 pts.)*"
   ]
  },
  {
   "cell_type": "markdown",
   "metadata": {
    "id": "ROGsLCWg1y7e"
   },
   "source": [
    "#### Program for solving $x = 1 - e^{-cx}$ for $c = 2$ with target error of at most $10^{-6}$\n",
    "(same as saying target accuracy of at least $10^{-6}$)"
   ]
  },
  {
   "cell_type": "code",
   "execution_count": null,
   "metadata": {
    "colab": {
     "base_uri": "https://localhost:8080/"
    },
    "id": "p28JF-OQYock",
    "outputId": "59542428-f8ba-4f3d-a66c-89918a8930d0"
   },
   "outputs": [
    {
     "name": "stdout",
     "output_type": "stream",
     "text": [
      "first_guess_x: 1\n",
      "Final estimate: 0.7968133630966887\n",
      "Error: 5.204759917502897e-07\n",
      "Target Error: 1e-06\n",
      "Iterations: 13\n",
      "\n",
      "first_guess_x: 0.79\n",
      "Final estimate: 0.7968100472765893\n",
      "Error: 8.791145421824145e-07\n",
      "Target Error: 1e-06\n",
      "Iterations: 9\n",
      "\n",
      "first_guess_x: 1\n",
      "Final estimate: 0\n",
      "Error: 0\n",
      "Target Error: 1e-06\n",
      "Iterations: Did not use Relaxation method\n",
      "\n",
      "First estimate x = 3 is invalid. Try again.\n",
      "\n",
      "c = -3 is invalid. c should be non-negative. Try again.\n",
      "\n"
     ]
    }
   ],
   "source": [
    "# Importing necessary packages\n",
    "import math\n",
    "import numpy as np\n",
    "\n",
    "# Defining RHS function\n",
    "def f(x,c):\n",
    "  return 1 - math.exp(-c*x)\n",
    "\n",
    "# Defining nth derivative of RHS function\n",
    "def f_dn(x,c,n):\n",
    "  return (-1**(n-1))*(c**n)*math.exp(-c*x)\n",
    "\n",
    "# Defining Solve_Relaxation (function we'll use to solve via Relaxation Method)\n",
    "def Solve_Relaxation(first_guess_x=1., c_factor=2, target_error=10**-6, print_iterations=True, use_Estimate=False, use_Error=False, **kwargs):\n",
    "  \"\"\"\n",
    "  Solves the equation $x = 1 - e^{-cx}$  for non-negative c using the Relaxation\n",
    "  Method for a particular target error.\n",
    "\n",
    "  first_guess_x is the initial guess solution;\n",
    "  c_factor is the factor of x in the RHS function;\n",
    "  target_error is error that will make the program stop iterating when reached\n",
    "  print_iterations toggles printing a message displaying the iteration number\n",
    "  and estimate values for each iteration\n",
    "  \"\"\"\n",
    "  # Outputs a string if c_factor is negative\n",
    "  if c_factor<0:\n",
    "    return print(f\"c = {c_factor} is invalid. c should be non-negative. Try again.\\n\")\n",
    "\n",
    "  # This accounts for the case where c = 0. The only valid solution in that\n",
    "  #case is x = 1, with zero error.\n",
    "  elif c_factor == 0:\n",
    "    if first_guess_x != 1:\n",
    "        return print(f\"First estimate x = {first_guess_x} is invalid. Try again.\\n\")\n",
    "    else:\n",
    "      if use_Estimate == True:\n",
    "          return 1\n",
    "\n",
    "      elif use_Error == True:\n",
    "          return 0\n",
    "\n",
    "      else:\n",
    "        print(f\"first_guess_x: {1}\\nFinal estimate: {0}\\nError: {0}\\nTarget Error: {target_error}\\nIterations: Did not use Relaxation method\\n\")\n",
    "\n",
    "  # The Relaxation Method is used beyond this point\n",
    "  else:\n",
    "\n",
    "    # Initializing error epsilon of each iteration and successive\n",
    "    #estimates guess_x and next_guess_x, where guess_x is the current estimate\n",
    "    #and next_guess_x is the next estimate\n",
    "    guess_x = first_guess_x\n",
    "    next_guess_x = f(x=guess_x,c=c_factor)\n",
    "    epsilon = abs((guess_x - next_guess_x)/(1 - (1/f_dn(x=guess_x,c=c_factor,n=1))))\n",
    "    # We need the absolute value to take into consideration cases where x'>x, or\n",
    "    #when we \"overshoot\" the estimate\n",
    "\n",
    "    # The initialization counts as the first iteration\n",
    "    iterations=1\n",
    "\n",
    "    if print_iterations == True:\n",
    "        print(f\"\\niteration: {iterations}\")\n",
    "        print(f\"guess_x: {guess_x}\")\n",
    "        print(f\"next_guess_x: {next_guess_x}\\n\")\n",
    "\n",
    "    # This loop does successive iterations until we reach the target error and\n",
    "    #increases the iteration counter by 1 as we iterate\n",
    "    while epsilon > target_error:\n",
    "      guess_x = next_guess_x\n",
    "      next_guess_x = f(x=next_guess_x,c=c_factor)\n",
    "      epsilon = abs((guess_x - next_guess_x)/(1 - (1/f_dn(x=guess_x,c=c_factor,n=1))))\n",
    "\n",
    "      iterations += 1\n",
    "\n",
    "      if print_iterations == True:\n",
    "        print(f\"\\niteration: {iterations}\")\n",
    "        print(f\"guess_x: {guess_x}\")\n",
    "        print(f\"next_guess_x: {next_guess_x}\\n\")\n",
    "\n",
    "    # Because of how the if statements are arranged, this returns next_guess_x\n",
    "    #if both use_Estimate and use_Error are true\n",
    "    if use_Estimate == True:\n",
    "      return next_guess_x\n",
    "\n",
    "    elif use_Error == True:\n",
    "      return epsilon\n",
    "\n",
    "    else:\n",
    "      print(f\"first_guess_x: {first_guess_x}\\nFinal estimate: {next_guess_x}\\nError: {epsilon}\\nTarget Error: {target_error}\\nIterations: {iterations}\\n\")\n",
    "\n",
    "#-------------------------------------------------------------------------------------------------------------------------------------------------\n",
    "\n",
    "# SOME OUTPUTS FOR Solve_Relaxation()\n",
    "\n",
    "# Solving the equation via Relaxation Method with first estimate x = 1\n",
    "Solve_Relaxation(first_guess_x=1, print_iterations=False)\n",
    "\n",
    "# Solving the equation via Relaxation Method with the first estimate x = 0.79\n",
    "Solve_Relaxation(first_guess_x=0.79, print_iterations=False)\n",
    "\n",
    "# Solving the equation for c = 0 (print_iterations argument does nothing here)\n",
    "Solve_Relaxation(first_guess_x=1, c_factor=0)\n",
    "Solve_Relaxation(first_guess_x=3, c_factor=0)\n",
    "\n",
    "# Solve_Relaxation() output for c<0\n",
    "Solve_Relaxation(first_guess_x=1, c_factor=-3)\n"
   ]
  },
  {
   "cell_type": "markdown",
   "metadata": {
    "id": "vONozDxcXxc9"
   },
   "source": [
    "Some additional notes1:\n",
    "\n",
    "\n",
    "*   nth derivative of $f(x) = 1-e^{-cx}$ for positive $c$\n",
    "    > $f'(x) = ce^{-cx}$\\\n",
    "    > $f''(x) = -c^{2}e^{-cx}$\\\n",
    "    > $f^{(n)}(x) = (-1)^{n-1}(c^{n})(e^{-cx})$\n",
    "\n",
    "*   As used in the code, the error $ϵ'$ between the last iteration $x$ and the next one $x'$ is given by:\n",
    "\n",
    "    > $ϵ' = \\left\\lvert \\frac{x-x'}{1-\\frac{1}{f'(x)}} \\right\\rvert\\$\n",
    "\n",
    "    > We could have estimated $f'(x)$ as\n",
    "\n",
    "    > $f'(x) ≈ \\left\\lvert \\frac{f(x)-f(x')}{x-x'} \\right\\rvert$\n",
    "\n",
    "    > but we can easily get $f'(x)$ without relying on numerical methods   \n",
    "\n",
    "\n",
    "\n",
    "*   The Relaxation Method can only converge to one solution. In this particular equation, the trivial solution $x = 0$ is true for all $c$.\n",
    "\n"
   ]
  },
  {
   "cell_type": "markdown",
   "metadata": {
    "id": "AR2K7ggV2mz2"
   },
   "source": [
    "#### Modifying program to calculate the solution to $x = 1 - e^{-cx}$ for $c$ values running from $0$ to $3$ in steps of $0.01$ and graphing the results\n",
    "\n",
    "(The target error is the same as in the previous program)"
   ]
  },
  {
   "cell_type": "code",
   "execution_count": null,
   "metadata": {
    "colab": {
     "base_uri": "https://localhost:8080/",
     "height": 449
    },
    "id": "BEhNp2p81UiY",
    "outputId": "cedbcecc-ff6d-4aa0-d501-d44f3360a510"
   },
   "outputs": [
    {
     "data": {
      "image/png": "[encoded data removed]",
      "text/plain": [
       "<Figure size 640x480 with 1 Axes>"
      ]
     },
     "metadata": {},
     "output_type": "display_data"
    }
   ],
   "source": [
    "# The previous code block needs to be run before this one; this code block was\n",
    "#separated to make the code more readable\n",
    "\n",
    "#Importing other packages needed\n",
    "import matplotlib.pyplot as plt\n",
    "\n",
    "# Defining function that generates c values\n",
    "def Gen_Solve_Relaxation(x1=1., c_value1=0, c_value2=3, c_step=0.01, error=10**-6, use_c=False, **kwargs):\n",
    "  \"\"\"\n",
    "  Generates solutions with varying c values to the equation $x = 1 - e^{-cx}$\n",
    "  for positive c using the Relaxation Method with a particular target error.\n",
    "\n",
    "  x1 is the first estimate\n",
    "  c_value1 is the lower bound c (inclusive)\n",
    "  c_value2 is the upper bound c (inclusive)\n",
    "  c_step is the interval length between each c\n",
    "  error is the target error\n",
    "  use_c toggles between outputting the solutions array and the c values array\n",
    "  \"\"\"\n",
    "  # Outputs a string if c_value1 > c_value2\n",
    "  if c_value1 > c_value2:\n",
    "    return print(\"c_value1 should be smaller than c_value2. Try again.\")\n",
    "\n",
    "  # Calculates the amount of points needed for a given interval length between\n",
    "  #each point. We use int() so points can be plugged into the num argument of\n",
    "  #np.linspace()\n",
    "  points = int(((c_value2 - c_value1)/c_step) + 1)\n",
    "\n",
    "  # Initializing array relaxation_solutions containing solutions for different c\n",
    "  #and array c_values which contains the c to be used for each solution\n",
    "  relaxation_solutions = np.empty(points, float)\n",
    "  c_values = np.linspace(start=c_value1, stop=c_value2, num=points)\n",
    "\n",
    "  # We add a solution to relaxation_solutions evaluated at each c in c_values\n",
    "  for cvalue in range(len(c_values)):\n",
    "    relaxation_solutions[cvalue]=(Solve_Relaxation(first_guess_x=x1, c_factor=c_values[cvalue], use_Estimate=True, print_iterations=False))\n",
    "\n",
    "  if use_c == True:\n",
    "    return c_values\n",
    "\n",
    "  else:\n",
    "    return relaxation_solutions\n",
    "#------------------------------------------------------------------------------------------------------------------------------------------------\n",
    "\n",
    "# Now, we can graph x as a function of c\n",
    "\n",
    "# Initializing data for plotting\n",
    "solutions_array = Gen_Solve_Relaxation(x1=1, c_value1=0, c_value2=3, c_step=0.01)\n",
    "c_array = Gen_Solve_Relaxation(use_c=True)\n",
    "\n",
    "fig, ax = plt.subplots()\n",
    "\n",
    "ax.plot(c_array,solutions_array, marker=\"o\", linestyle=\"none\")\n",
    "ax.set_xlabel(\"c values\")\n",
    "ax.set_ylabel(\"Solutions to x\")\n",
    "\n",
    "plt.show()\n",
    "\n"
   ]
  },
  {
   "cell_type": "code",
   "execution_count": null,
   "metadata": {
    "colab": {
     "base_uri": "https://localhost:8080/",
     "height": 450
    },
    "id": "5j_i8N-z9GeN",
    "outputId": "517f16d6-fd17-4bb0-c26b-d03c942f6ddb"
   },
   "outputs": [
    {
     "data": {
      "image/png": "[encoded data removed]",
      "text/plain": [
       "<Figure size 640x480 with 3 Axes>"
      ]
     },
     "metadata": {},
     "output_type": "display_data"
    }
   ],
   "source": [
    "# Here, we plot a closer look at the regimes\n",
    "\n",
    "soln = Gen_Solve_Relaxation(use_c=True)\n",
    "\n",
    "regime0_c_array = soln[soln[:]==0]\n",
    "regime1_c_array = soln[soln[:]>0]\n",
    "regime1_c_array = regime1_c_array[regime1_c_array[:]<1]\n",
    "regime2_c_array = soln[soln[:]>=1]\n",
    "\n",
    "xlabel = \"c values\"; ylabel = \"Solutions to x\"\n",
    "\n",
    "fig1, regimes = plt.subplots(3,1)\n",
    "\n",
    "regimes[0].plot(regime0_c_array,solutions_array[0],marker=\"o\", linestyle=\"none\")\n",
    "\n",
    "regimes[0].set_xlabel(xlabel)\n",
    "regimes[0].set_ylabel(ylabel)\n",
    "\n",
    "regimes[1].plot(regime1_c_array,solutions_array[1:100],marker=\"o\", linestyle=\"none\")\n",
    "\n",
    "regimes[1].set_xlabel(xlabel)\n",
    "regimes[1].set_ylabel(ylabel)\n",
    "\n",
    "regimes[2].plot(regime2_c_array, solutions_array[100:],marker=\"o\", linestyle=\"none\")\n",
    "\n",
    "regimes[2].set_xlabel(xlabel)\n",
    "regimes[2].set_ylabel(ylabel)\n",
    "\n",
    "plt.show()"
   ]
  },
  {
   "cell_type": "markdown",
   "metadata": {
    "id": "PWXJ5IyLY-JP"
   },
   "source": [
    "As the graphs show, there are three regimes present: the first regime at $c=0$, the second regime at $0<c<1$, and the third regime at $1 \\le c \\le 3$.\n",
    "\n",
    ">>The first regime shows the case where the only possible solution is exactly $x = 1$, hence the lone point at $(c,x) = (0,1)$.\n",
    "\n",
    ">>The second regime shows that $x$ has slight fluctuations at $c<1$, small enough such that it seems almost constant when not zoomed in. As $c$ approaches $1$, however, the function begins to rapidly increase. This means that the graph would have a positive second derivative (assuming of course that there are enough data points to approximate it as continuous) given that the rate of increase is getting larger in this part of the regime.\n",
    "\n",
    ">>At $c>1$ in the third regime, the graph is still increasing, but its rate of increase is slowing down. This suggests two things: (i) that the graph behaves logarithmically at $c>1$ given the negative second derivative and (ii) that there is an inflection point in the neighborhood of $c=1$ given that the second derivative of the graph is positive to the left of it but negative to the right of it.\n",
    "\n",
    ">>Hence, at the second regime, if we can find the $x$ that the values fluctuate around (perhaps using $⟨x⟩$), we can use it as an approximate solution for the case where $c<<1$. At the third regime, some logarithmic function of c could be a good approximation for the solution at $c \\ge 1$.\n",
    "\n"
   ]
  },
  {
   "cell_type": "markdown",
   "metadata": {
    "id": "QUoXL-kmC6c8"
   },
   "source": [
    "Some additional notes2:\n",
    "\n",
    "\n",
    "*   number of data points, points:\n",
    "    > \\\\(c_{value2} = c_{value1} + (points-1)c_{step}\\\\)\n",
    "\n",
    "    > This tells us what \\\\(c_{value2}\\\\) we get given how many points we want, and makes it so that for 1 point, \\\\(c_{value2} = c_{value1}\\\\).\n",
    "\n",
    "    > Hence,\n",
    "\n",
    "    > \\\\(points = \\frac{c_{value2} - c_{value1}}{c_{step}} + 1\\\\)"
   ]
  },
  {
   "cell_type": "markdown",
   "metadata": {
    "id": "BY5x-mZsYoqG"
   },
   "source": [
    "### PROBLEM 3\n",
    "\n",
    "**Physics Application: Calculating the Lagrange point**\n",
    "\n",
    "_Refer to Exercise 6.16 of the Newman text._ The $L_1$ Lagrange point is the point between the Earth and the Moon at which a satellite will orbit the Earth in perfect synchrony with the Moon, staying always in between the two.\n",
    "\n",
    "Assuming circular orbits, and assuming that the Earth is much more massive than either the Moon or the satellite, the distance $r$ from the center of the Earth to the $L_1$ point satisfies\n",
    "$$ \\begin{equation}\n",
    "\\frac{GM}{r^2} - \\frac{Gm}{(R-r)^2} = \\omega^2 r,\n",
    "\\end{equation} $$\n",
    "where $R$ is the distance from the Earth to the Moon, $M$ and $m$ are the Earth and Moon masses, $G$ is Newton's gravitational constant, and $\\omega$ is the angular velocity of both the Moon and the satellite."
   ]
  },
  {
   "cell_type": "markdown",
   "metadata": {
    "id": "LlDDXIZ46CKU"
   },
   "source": [
    "Use Newton's method to solve for the distance r from the Earth to the $L_1$ point. Compute a solution accurate to at least four significant figures."
   ]
  },
  {
   "cell_type": "code",
   "execution_count": null,
   "metadata": {
    "colab": {
     "base_uri": "https://localhost:8080/"
    },
    "id": "IbtAmazlQoo4",
    "outputId": "a4f80864-f04d-4d11-df52-9ad3b165f330"
   },
   "outputs": [
    {
     "name": "stdout",
     "output_type": "stream",
     "text": [
      "True value for L1: 0.8403997*R or 323050000.0 [meters] in 6 sigfigs\n",
      "\n",
      "\n",
      "First Estimate: 1 [meters]\n",
      "Lagrange Point L1: 326045071.66535395 [meters]\n",
      "Rounded Lagrange point L1:326045000.0 [meters]\n",
      "Rounded to 6 significant figures.\n",
      "Iterations: 1556\n",
      "\n",
      "absolute error (based on true value): 2995355.319999993 [meters]\n",
      "relative error (based on true value): 0.9272120769447282%\n",
      "\n",
      "\n",
      "First Estimate: 192200000.0 [meters]\n",
      "Lagrange Point L1: 326045071.66535395 [meters]\n",
      "Rounded Lagrange point L1:326045000.0 [meters]\n",
      "Rounded to 6 significant figures.\n",
      "Iterations: 1509\n",
      "\n",
      "absolute error (based on true value): 2995355.319999993 [meters]\n",
      "relative error (based on true value): 0.9272120769447282%\n",
      "\n",
      "\n",
      "First Estimate: 322876041.49951375 [meters]\n",
      "Lagrange Point L1: 326045071.66535395 [meters]\n",
      "Rounded Lagrange point L1:326045000.0 [meters]\n",
      "Rounded to 6 significant figures.\n",
      "Iterations: 1419\n",
      "\n",
      "absolute error (based on true value): 2995355.319999993 [meters]\n",
      "relative error (based on true value): 0.9272120769447282%\n",
      "\n"
     ]
    }
   ],
   "source": [
    "# Importing necessary packages\n",
    "import numpy as np\n",
    "\n",
    "# Defining the constants (in their respective SI units)\n",
    "G = 6.674e-11\n",
    "M = 5.974e24\n",
    "m = 7.348e22\n",
    "R = 3.844e8\n",
    "w_moon = 2.662e-6\n",
    "\n",
    "# Defining function g(r) that we need to find the roots of\n",
    "def g(r, G_const=G, M_const=M, m_const=m, R_const=R, w_moon_const=w_moon, **kwargs):\n",
    "  return ((G_const*M_const)/(r**2)) - ((G_const*m_const)/((R_const-r)**2)) - (w_moon_const**2)*r\n",
    "\n",
    "# Defining g_d1(r), the first derivative of g(r)\n",
    "def g_d1(r, G_const=G, M_const=M, m_const=m, R_const=R, w_moon_const=w_moon, **kwargs):\n",
    "  return G_const*M_const*((-2)/(r**3)) - G_const*M_const*((2)/((R-r)**3)) - w_moon_const**2\n",
    "\n",
    "def g_d1_v2(r, G_const=G, M_const=M, m_const=m, R_const=R, w_moon_const=w_moon, **kwargs):\n",
    "  return 5*(w_moon_const**2)*(r**4)-8*R_const*(r**3)+3*(w_moon_const**2)*(R_const**2)*(r**2)-2*G_const*(M_const-m_const)*r + 2*G_const*M_const*R_const\n",
    "\n",
    "# Defining a function that finds exponents of 10 in scientific notation\n",
    "def factor10_scientific(nombre):\n",
    "  \"\"\"\n",
    "  Tells us what exponent to raise 10 to when putting a number nombre in\n",
    "  in scientific notation, which results in # of digits nombre has left\n",
    "  of the decimal point - 1.\n",
    "  \"\"\"\n",
    "  # The abs() lets us use this even on negative numbers\n",
    "  return np.floor(np.log10(abs(nombre)))\n",
    "\n",
    "# Defining out significant figure rounding function sigfig_round\n",
    "def sigfig_round(x, figs=1, **kwargs):\n",
    "  \"\"\"\n",
    "  Rounds number x to figs significant figures. This code doesn't consider\n",
    "  trailing zeroes after decimal point.\n",
    "  \"\"\"\n",
    "\n",
    "  if figs<0:\n",
    "    return print(\"figs needs to be non-negative. Try again.\")\n",
    "\n",
    "  else:\n",
    "    # Refer to Some aditional notes3\n",
    "    digit = figs - (factor10_scientific(x) + 1)\n",
    "\n",
    "    # Recall that the np.round() function starts rounding to the left of the\n",
    "    #decimal place once the decimals parameter becomes negative. We use int()\n",
    "    #here since the decimal parameter strictly wants int arguments\n",
    "    return np.round(x, int(digit))\n",
    "\n",
    "\n",
    "# Defining funtion for Newton's Method\n",
    "def Solve_Newton(first_guess_r=1, sigfig_target=4, target_error=1e-12, print_iterations=False, use_print=True, **kwargs):\n",
    "  \"\"\"\n",
    "  Solves for the Lagrange point r with an accuracy of sigfig_target significant\n",
    "  figures.Setting use_print to False makes the function return the value of the\n",
    "  solution.\n",
    "  \"\"\"\n",
    "  # This outputs a message when there are negative inputs\n",
    "  if sigfig_target<0:\n",
    "    return print(\"Invalid input. The function doesn't accept negative numbers as numerical inputs.\")\n",
    "\n",
    "  else:\n",
    "    # Initializing guess_r and next_guess_r\n",
    "    guess_r = first_guess_r\n",
    "    next_guess_r = guess_r - (g(r=guess_r)/g_d1(r=guess_r))\n",
    "\n",
    "    # Error\n",
    "    epsilon = abs(guess_r-next_guess_r)\n",
    "\n",
    "    # The initialization step above counts as one iteration\n",
    "    iterations = 1\n",
    "\n",
    "    # This forces the function to only return the value of the solution when\n",
    "    #use_print is false, even if print_iterations is set to true\n",
    "    if use_print != True:\n",
    "      print_iterations == False\n",
    "\n",
    "    if print_iterations == True:\n",
    "      print(f\"\\niteration: {iterations}\")\n",
    "      print(f\"guess_r: {guess_r}\")\n",
    "      print(f\"next_guess_r: {next_guess_r}\")\n",
    "      print(f\"error: {epsilon}\")\n",
    "\n",
    "    # Here, we do Newton's Method until reaching the specified target error,\n",
    "    #then round to the specified number of sigfigs\n",
    "    while epsilon > target_error :\n",
    "      guess_r = next_guess_r\n",
    "      next_guess_r = guess_r - (g(r=guess_r)/g_d1(r=guess_r))\n",
    "\n",
    "      epsilon = abs(guess_r-next_guess_r)\n",
    "\n",
    "      iterations+=1\n",
    "\n",
    "      if print_iterations == True:\n",
    "        print(f\"\\niteration: {iterations}\")\n",
    "        print(f\"guess_r: {guess_r}\")\n",
    "        print(f\"next_guess_r: {next_guess_r}\")\n",
    "        print(f\"error: {epsilon}\\n\")\n",
    "\n",
    "    L1_raw = next_guess_r\n",
    "\n",
    "    L1_point_estimate = sigfig_round(x=L1_raw, figs=sigfig_target)\n",
    "\n",
    "    if use_print == True:\n",
    "      return print(f\"\\nFirst Estimate: {first_guess_r} [meters]\\nLagrange Point L1: {L1_raw} [meters]\\nRounded Lagrange point L1:{L1_point_estimate} [meters]\\nRounded to {sigfig_target} significant figures.\\nIterations: {iterations}\\n\")\n",
    "\n",
    "    else:\n",
    "      return L1_point_estimate\n",
    "\n",
    "# True value for L1 according to Maccone, Claudio. (2002). The Lunar Farside Radio Lab Study of the IAA. (https://www.researchgate.net/publication/228781180_The_Lunar_Farside_Radio_Lab_Study_of_the_IAA)\n",
    "true_L1 = 0.8403997*R\n",
    "print(f\"True value for L1: 0.8403997*R or {sigfig_round(x=true_L1, figs=6)} [meters] in 6 sigfigs\\n\")\n",
    "\n",
    "# From: Paul, Carles. (2023). Lagrange Points L1 and L2 1 Introduction. Definition of Lagrange Points. (https://www.researchgate.net/publication/374805875_Lagrange_Points_L1_and_L2_1_Introduction_Definition_of_Lagrange_Points)\n",
    "# This gives an estimate of L1 according to the paper\n",
    "estimate_L1 = R*(1-((m/(3*M))**(1/3)))\n",
    "\n",
    "def relative_error(value,true_value):\n",
    "  rel_error = abs((value-true_value)/(true_value))*100\n",
    "  return rel_error\n",
    "\n",
    "#Testing the function. Suitable starting values of r should be less than R, but much greater than R/2 since the moon has a weaker gravitational field than the Earth\n",
    "Solve_Newton(first_guess_r=1, sigfig_target=6, target_error=1e-12, print_iterations=False)\n",
    "Soln1 = Solve_Newton(first_guess_r=1, sigfig_target=6, target_error=1e-12, use_print=False)\n",
    "print(f\"absolute error (based on true value): {abs(Soln1-true_L1)} [meters]\")\n",
    "print(f\"relative error (based on true value): {relative_error(Soln1,true_L1)}%\\n\")\n",
    "\n",
    "Solve_Newton(first_guess_r=R/2, sigfig_target=6, target_error=1e-12, print_iterations=False)\n",
    "Soln2 = Solve_Newton(first_guess_r=R/2, sigfig_target=6, target_error=1e-12, use_print=False)\n",
    "print(f\"absolute error (based on true value): {abs(Soln2-true_L1)} [meters]\")\n",
    "print(f\"relative error (based on true value): {relative_error(Soln2,true_L1)}%\\n\")\n",
    "\n",
    "Solve_Newton(first_guess_r=estimate_L1, sigfig_target=6, target_error=1e-12, print_iterations=False)\n",
    "Soln3 = Solve_Newton(first_guess_r=estimate_L1, sigfig_target=6, target_error=1e-12, use_print=False)\n",
    "print(f\"absolute error (based on true value): {abs(Soln3-true_L1)} [meters]\")\n",
    "print(f\"relative error (based on true value): {relative_error(Soln3,true_L1)}%\\n\")\n"
   ]
  },
  {
   "cell_type": "markdown",
   "metadata": {
    "id": "4oOssoTT_niv"
   },
   "source": [
    "The results show that Newton's Method indeed converges very rapidly, given that a first estimate of 1 [meter] immediately shoots up to roughly \\\\( 3.260 ⋅ 10^{8} \\\\) [meters], which is the order of magnitude we can reasonably expect r to be in; the method already produces results similar to those of more reasonable guesses \\\\(  (≥\\frac{R}{2}) \\\\).\n",
    "\n",
    "The true value of L1 is given by  \\\\( 0.8403997R \\\\) or \\\\( 323050000.0 \\\\) [meters] in 6 sigfigs (Maccone 2002). The relative error of the estimates is roughly \\\\( 0.93\\% \\\\), which indicates that the value obtained from Newton's Method is acceptable and very close to the relative to the actual value. However, given the large size (relative to everyday objects) of the absolute error, using the L1 estimate obtained from this method in other calculations becomes less reliable whenever a smaller scale of distances is relevant.\n",
    "\n",
    "This serves to highlight that Newton's Method produces solutions that, given a target error, are close to the true value in the relative scale rather than the absolute scale. As such, working with large values such as the ones in the Lagrange point problem means that this feature is excacerbated, and any measurements obtained using this method become less relevant when working using them in calculations involving far smaller or far larger values.\n",
    "\n",
    "(As an exagerated and contrived example: If I want to launch a rocket to some far planet in our galaxy, but the initial conditions for the launch are very sensitive, such that they are in a far smaller scale than the distances I'm working with, using Newton's Method to solve an equation related to the launch could send my rocket to an entirely different galaxy.)\n",
    "\n",
    "A"
   ]
  },
  {
   "cell_type": "markdown",
   "metadata": {
    "id": "V1jHy61wyYjn"
   },
   "source": [
    "Some additional notes3:\n",
    "\n",
    "\n",
    "*   \\\\(factor10\\_scientific()\\\\):\n",
    "    > \\\\(log_{10}(x)\\\\) is continuous and monotonically increasing. This means that flooring the function lets us get the order of magnitude of \\\\(x\\\\), which is \\\\(1\\\\) less than the number of digits to the left of the decimal place.\\\n",
    "    > To illustrate,\n",
    "\n",
    "    >\\\\(log_{10}(10)= 1\\\\) and \\\\(log_{10}(100) = 2\\\\)\n",
    "    >\\\\(⇒ log_{10}(10)<log_{10}(92)<log_{10}(100)\\\\)\\\n",
    "    > since $log_{10}(x)$ is increasing\n",
    "\n",
    "*   \\\\(digit\\\\)\n",
    "\n",
    "    > Notice that if \\\\(figs\\\\) is zero, \\\\(digit = -(factor10_scientific(x)+1)\\\\), which means that all the digits to the left of the decimal point (and to the right for that matter) are being removed for rounding. Each figs you add tells the \\\\(round()\\\\) function to keep one more digit for rounding."
   ]
  }
 ],
 "metadata": {
  "colab": {
   "provenance": []
  },
  "kernelspec": {
   "display_name": "Python 3 (ipykernel)",
   "language": "python",
   "name": "python3"
  },
  "language_info": {
   "codemirror_mode": {
    "name": "ipython",
    "version": 3
   },
   "file_extension": ".py",
   "mimetype": "text/x-python",
   "name": "python",
   "nbconvert_exporter": "python",
   "pygments_lexer": "ipython3",
   "version": "3.9.12"
  },
  "toc": {
   "base_numbering": 1,
   "nav_menu": {},
   "number_sections": true,
   "sideBar": true,
   "skip_h1_title": false,
   "title_cell": "Table of Contents",
   "title_sidebar": "Contents",
   "toc_cell": false,
   "toc_position": {},
   "toc_section_display": true,
   "toc_window_display": false
  },
  "varInspector": {
   "cols": {
    "lenName": 16,
    "lenType": 16,
    "lenVar": 40
   },
   "kernels_config": {
    "python": {
     "delete_cmd_postfix": "",
     "delete_cmd_prefix": "del ",
     "library": "var_list.py",
     "varRefreshCmd": "print(var_dic_list())"
    },
    "r": {
     "delete_cmd_postfix": ") ",
     "delete_cmd_prefix": "rm(",
     "library": "var_list.r",
     "varRefreshCmd": "cat(var_dic_list()) "
    }
   },
   "types_to_exclude": [
    "module",
    "function",
    "builtin_function_or_method",
    "instance",
    "_Feature"
   ],
   "window_display": false
  }
 },
 "nbformat": 4,
 "nbformat_minor": 1
}
