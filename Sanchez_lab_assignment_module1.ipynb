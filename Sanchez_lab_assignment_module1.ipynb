{
  "nbformat": 4,
  "nbformat_minor": 0,
  "metadata": {
    "colab": {
      "provenance": [],
      "include_colab_link": true
    },
    "kernelspec": {
      "name": "python3",
      "display_name": "Python 3"
    }
  },
  "cells": [
    {
      "cell_type": "markdown",
      "metadata": {
        "id": "view-in-github",
        "colab_type": "text"
      },
      "source": [
        "<a href=\"https://colab.research.google.com/github/SanchezJJC/ApPhy-155/blob/master/Sanchez_lab_assignment_module1.ipynb\" target=\"_parent\"><img src=\"https://colab.research.google.com/assets/colab-badge.svg\" alt=\"Open In Colab\"/></a>"
      ]
    },
    {
      "cell_type": "markdown",
      "metadata": {
        "id": "G0BcK0H_G1Iu"
      },
      "source": [
        "# **AP155 Lab Assignment**\n",
        "## Module 1: Integrals and Derivatives\n",
        "\n",
        "_Instructions_: Answer each problem as completely as you can. Discuss **all** your answers as clearly and concisely as possible.\n",
        "\n",
        "_Scoring Criteria_: 50% - *correctness of code*; 50% - *discussion of the code and results*. Maximum score is **100 points**.\n",
        "\n",
        "\n"
      ]
    },
    {
      "cell_type": "markdown",
      "metadata": {
        "id": "PeHZ9kP8JaVR"
      },
      "source": [
        "### Student Information\n",
        "\n",
        "_Full Name_: Sanchez, Jezreel John \\\n",
        "_Student No._: 2019-06919\\\n",
        "_Section_: HX-1"
      ]
    },
    {
      "cell_type": "markdown",
      "metadata": {
        "id": "Hc183co-J4eI"
      },
      "source": [
        "### Submission Information\n",
        "\n",
        "_Date and Time Submitted (most recent upload)_: 25 October 2023; 5:20 pm\n",
        "\n",
        "**HONOR PLEDGE** I affirm that I have upheld the highest principles of honesty and integrity in my academic work and that this lab assignment is my own work.\n",
        "\n",
        "**Sign here with your full name:** Jezreel John C. Sanchez"
      ]
    },
    {
      "cell_type": "markdown",
      "metadata": {
        "id": "X1UGsRpW-eQs"
      },
      "source": [
        "### Grading Information (c/o Lab Instructor)\n",
        "\n",
        "TOTAL SCORE: **XX**/100\n",
        "\n",
        "Score breakdown:\n",
        "* Problem 1 - XX/30\n",
        "* Problem 2 - XX/30\n",
        "* Problem 3 - XX/40\n",
        "\n",
        "_Date and Time Scored (MM/DD/YYYY HH:MM AM/PM):_"
      ]
    },
    {
      "cell_type": "markdown",
      "metadata": {
        "id": "LxWuqiCFMsEh"
      },
      "source": [
        "### PROBLEM 1\n",
        "**Integration using the trapezoidal rule and Simpson's rule**\n",
        "\n",
        "Calculate the integral of the function $ 2x^4 + 3x^2 + 4x + 5$ from $x=0$ to $x=5$.\n",
        "\n",
        "1. Do the numerical calculation using the trapezoidal rule with 10, 100, and 1,000 slices. Describe each step of the calculation clearly and concisely. *(10 pts.)*\n",
        "\n",
        "2. What are the percentage errors of your answers in (1)? *(10 pts.)*\n",
        "\n",
        "3. Repeat the calculation using Simpson's rule with 10, 100, and 1,000 slices. Describe each step of the calculation clearly and concisely. *(5 pts.)*\n",
        "\n",
        "4. What are the percentage errors of your answers in (3)? How do they compare with the results from (1) for the same number of slices? *(5 pts.)*"
      ]
    },
    {
      "cell_type": "markdown",
      "source": [
        "Trapezoidal Rule"
      ],
      "metadata": {
        "id": "Ka14TVmSpVsC"
      }
    },
    {
      "cell_type": "code",
      "metadata": {
        "id": "hMqWOsbIMoUh",
        "colab": {
          "base_uri": "https://localhost:8080/"
        },
        "outputId": "77b07222-0211-4c66-83dc-e5f66041c15c"
      },
      "source": [
        "#1.1 Setting up f(x) to integrate\n",
        "def f(x):\n",
        "  return 2*x**4 + 3*x**2 +4*x + 5\n",
        "\n",
        "#1.2 Defining Trapezoidal Rule Integration\n",
        "def Trapezoidal_Integral(N=10, a=0, b=5, Display_Print=False, **kwargs):\n",
        "  \"\"\"\n",
        "  This function evaluates integrals using the trapezoidal rule.\n",
        "  N is the number of slices; a and b are the lower and upper bounds respectively of the integral.\n",
        "  \"\"\"\n",
        "  #1.3 Default N, a,and b were initialized. h is the width of each slice\n",
        "  h = (b-a)/N\n",
        "\n",
        "  #1.4 We define sum s as a partial sum\n",
        "  #It's the area of our trapezoid divided by height h, since h is the same for all our trapezoids.\n",
        "  #Here, we're defining the initial value of the partial sum.\n",
        "  s = 0.5*f(a) + 0.5*f(b)\n",
        "\n",
        "  for k in range (1,N): #1.5 k here actually runs from 1 to N-1 inclusive; k refers to the kth trapezoidal slice of the integral.\n",
        "    s+= f(a + k*h) #1.6 We're adding up the area divided by h of each slice here, iterating over the for loop lets us add up each slice.\n",
        "\n",
        "  total_Area = s*h #1.7 This is the total area\n",
        "\n",
        "  if Display_Print == True:\n",
        "    print(f\"Area: {total_Area}; No. of Slices: {N}; Endpoints (a,b): ({a},{b})\")\n",
        "\n",
        "  else:\n",
        "    return total_Area\n",
        "\n",
        "#1.8 N = 10 Slices\n",
        "Trapezoidal_Integral(N=10, Display_Print=True)\n",
        "\n",
        "#1.9 N = 100 Slices\n",
        "Trapezoidal_Integral(N=100, Display_Print=True)\n",
        "\n",
        "#1.10 N = 1000 Slices\n",
        "Trapezoidal_Integral(N=1000, Display_Print=True)\n"
      ],
      "execution_count": null,
      "outputs": [
        {
          "output_type": "stream",
          "name": "stdout",
          "text": [
            "Area: 1471.4375; No. of Slices: 10; Endpoints (a,b): (0,5)\n",
            "Area: 1450.2145812500003; No. of Slices: 100; Endpoints (a,b): (0,5)\n",
            "Area: 1450.0021458331234; No. of Slices: 1000; Endpoints (a,b): (0,5)\n"
          ]
        }
      ]
    },
    {
      "cell_type": "markdown",
      "source": [
        "Trapezoidal Rule Error Calculation"
      ],
      "metadata": {
        "id": "D_DrmA-Upgy2"
      }
    },
    {
      "cell_type": "code",
      "source": [
        "#1.11 The analytically computed area is 1450 units\n",
        "\n",
        "#1.12 Defining %Error function; The code for Trapezoidal Integral needs to be run before this one to prevent errors\n",
        "\n",
        "def Trapezoidal_Error(Slice=10, Theoretical=1450, **kwargs):\n",
        "  \"\"\"\n",
        "  Computes error for integrating using Trapezoidal Rule.\n",
        "  Slice is the no. slices used and Theoretical is the analytically computed value.\n",
        "  \"\"\"\n",
        "\n",
        "  Trapezoidal_Integral(N=Slice)\n",
        "  trap_error = 100*abs(Trapezoidal_Integral(N=Slice)-Theoretical)/abs(Theoretical)\n",
        "\n",
        "  print(f\"No. of Slices: {Slice}; %Error: {trap_error}%\")\n",
        "\n",
        "#1.13 Error for 10 Slices\n",
        "Trapezoidal_Error(Slice=10)\n",
        "\n",
        "#1.14 Error for 100 Slices\n",
        "Trapezoidal_Error(Slice=100)\n",
        "\n",
        "#1.15 Error for 1000 Slices\n",
        "Trapezoidal_Error(Slice=1000)"
      ],
      "metadata": {
        "colab": {
          "base_uri": "https://localhost:8080/"
        },
        "id": "aAeMfMLvppvc",
        "outputId": "5b269f98-fd06-4a9b-8da6-0451926ba672"
      },
      "execution_count": null,
      "outputs": [
        {
          "output_type": "stream",
          "name": "stdout",
          "text": [
            "No. of Slices: 10; %Error: 1.478448275862069%\n",
            "No. of Slices: 100; %Error: 0.01479870689656999%\n",
            "No. of Slices: 1000; %Error: 0.00014798849127240326%\n"
          ]
        }
      ]
    },
    {
      "cell_type": "markdown",
      "source": [
        "The computed error conforms to the predicted error of the Trapezoidal Rule (The error is decreased by a factor of roughly $10^2$ whenever we multiply the number of slices by $10$). Deviations from this behavior are likely due to the machine's precision.\n"
      ],
      "metadata": {
        "id": "kalcjhnEx-qg"
      }
    },
    {
      "cell_type": "markdown",
      "source": [
        "Simpson's Rule"
      ],
      "metadata": {
        "id": "IMqbG3HOyeJU"
      }
    },
    {
      "cell_type": "code",
      "source": [
        "#1.16 Defining f(x) again so we can run this independently\n",
        "def f(x):\n",
        "  return 2*x**4 + 3*x**2 +4*x + 5\n",
        "\n",
        "#1.17 Defining the Simpson's Rule Integration function\n",
        "def Simpson_Integral(N=10, a=0, b=5, Display_Print=False, **kwargs):\n",
        "  \"\"\"\n",
        "  This function evaluates integrals using the Simpson's rule (fitting quadratic curves then using trapezoids).\n",
        "  N is the number of slices; a and b are the lower and upper bounds respectively of the integral.\n",
        "  \"\"\"\n",
        "  #1.18 h is the height\n",
        "  h = (b-a)/N\n",
        "\n",
        "  #1.19 We initialize partial sum s\n",
        "  s = f(a) + f(b)\n",
        "\n",
        "  for k in range(1,N,2): #1.20 We sum over the odd k this way from 1 to N-1\n",
        "    s+= 4*f(a+k*h)\n",
        "\n",
        "  for k in range(2,N,2): #1.21 We sum over the even k this way from 2 to N-2\n",
        "    s+= 2*f(a+k*h)\n",
        "\n",
        "  #1.22 Finally, we multiply (1/3)h to the s we summed up\n",
        "  total_Area = (1/3)*h*s\n",
        "\n",
        "  if Display_Print == True:\n",
        "    print(f\"Area: {total_Area}; No. of Slices: {N}; Endpoints (a,b): ({a},{b})\")\n",
        "\n",
        "  else:\n",
        "    return total_Area\n",
        "\n",
        "#1.23 N = 10 Slices\n",
        "Simpson_Integral(N=10, Display_Print=True)\n",
        "\n",
        "#1.24 N = 100 Slices\n",
        "Simpson_Integral(N=100, Display_Print=True)\n",
        "\n",
        "#1.25 N = 1000 Slices\n",
        "Simpson_Integral(N=1000, Display_Print=True)\n"
      ],
      "metadata": {
        "colab": {
          "base_uri": "https://localhost:8080/"
        },
        "id": "8fmH9ol7yhFh",
        "outputId": "247cc92a-a2a4-492d-e138-82f14326334a"
      },
      "execution_count": null,
      "outputs": [
        {
          "output_type": "stream",
          "name": "stdout",
          "text": [
            "Area: 1450.0833333333333; No. of Slices: 10; Endpoints (a,b): (0,5)\n",
            "Area: 1450.0000083333337; No. of Slices: 100; Endpoints (a,b): (0,5)\n",
            "Area: 1450.000000000834; No. of Slices: 1000; Endpoints (a,b): (0,5)\n"
          ]
        }
      ]
    },
    {
      "cell_type": "markdown",
      "source": [
        "Simpson's Rule Error"
      ],
      "metadata": {
        "id": "lg2G-dPS3Tp9"
      }
    },
    {
      "cell_type": "code",
      "source": [
        "#1.26 The analytically computed area is 1450 units\n",
        "\n",
        "#1.27 Defining %Error function; The code for Simpson_Integral needs to be run before this one to prevent errors\n",
        "\n",
        "def Simpson_Error(Slice=10, Theoretical=1450, **kwargs):\n",
        "  \"\"\"\n",
        "  Computes error for integrating using Simpson's Rule.\n",
        "  Slice is the no. slices used and Theoretical is the analytically computed value.\n",
        "  \"\"\"\n",
        "  Simpson_Integral(N=Slice)\n",
        "  trap_error = 100*abs(Simpson_Integral(N=Slice)-Theoretical)/abs(Theoretical)\n",
        "\n",
        "  print(f\"No. of Slices: {Slice}; %Error: {trap_error}%\")\n",
        "\n",
        "#1.28 Error for 10 Slices\n",
        "Simpson_Error(Slice=10)\n",
        "\n",
        "#1.29 Error for 100 Slices\n",
        "Simpson_Error(Slice=100)\n",
        "\n",
        "#1.30 Error for 1000 Slices\n",
        "Simpson_Error(Slice=1000)"
      ],
      "metadata": {
        "colab": {
          "base_uri": "https://localhost:8080/"
        },
        "id": "QMTZVvkV3WvV",
        "outputId": "4388ee5b-b141-485a-b075-5413de19b951"
      },
      "execution_count": null,
      "outputs": [
        {
          "output_type": "stream",
          "name": "stdout",
          "text": [
            "No. of Slices: 10; %Error: 0.005747126436776382%\n",
            "No. of Slices: 100; %Error: 5.747126657485657e-07%\n",
            "No. of Slices: 1000; %Error: 5.75176994155707e-11%\n"
          ]
        }
      ]
    },
    {
      "cell_type": "markdown",
      "source": [
        "The computed error of the area obtained via Simpson's Rule is far lower than that of the Trapezoidal Rule for the same number of slices. This error conforms with the predicted behavior for the Simpson's Rule error given that increasing the number of slices by a factor of $10$ decreases the error by a factor of $10^4$. Any deviations from this behavior are likely due to machine precision."
      ],
      "metadata": {
        "id": "xln60M9U4DAF"
      }
    },
    {
      "cell_type": "markdown",
      "metadata": {
        "id": "m2a6sg90R-NX"
      },
      "source": [
        "### PROBLEM 2\n",
        "\n",
        "**Integration using Gaussian quadrature**\n",
        "\n",
        "Calculate the integral from Problem 1 using the Gaussian quadrature method: $ 2x^4 + 3x^2 + 4x + 5$ from $x=0$ to $x=5$.\n",
        "\n",
        "1. Define the function $\\tt gaussxw$ from Appendix E of the Newman text (and run the cell). *(10 pts.)*\n",
        "\n",
        "2. Calculate the integral using the $\\tt gaussxw$ function in (1) and number of slices $N = 3$. Describe each step in the calculation clearly and concisely. *(20 pts.)*"
      ]
    },
    {
      "cell_type": "code",
      "metadata": {
        "id": "YO_PDJ4VIVs5",
        "colab": {
          "base_uri": "https://localhost:8080/"
        },
        "outputId": "080097be-5689-4ad7-8dd1-04a4ad18decf"
      },
      "source": [
        "#2.1 Defining f(x)\n",
        "def f(x):\n",
        "  return 2*x**4 + 3*x**2 +4*x + 5\n",
        "\n",
        "#2.2 Importing necessary packages\n",
        "from numpy import ones, copy, cos, tan, pi, linspace\n",
        "\n",
        "#2.3 Defining the gaussxw function from Appendix E of Newman\n",
        "def gaussxw(N):\n",
        "  \"\"\"\n",
        "  This function calculates the sample points and weights\n",
        "  needed to perorm Gaussian quadrature.\n",
        "  \"\"\"\n",
        "\n",
        "  #2.4 Initial approximation of roots of Legendre Polynomial\n",
        "  a_ = linspace(3, 4*N-2, N)/(4*N+2)\n",
        "  x = cos(pi*a_+1/(8*N*N*tan(a_)))\n",
        "\n",
        "  #2.5 Find Roots using Newton's method\n",
        "  epsilon = 1e-15\n",
        "  delta = 1.\n",
        "  while delta>epsilon:\n",
        "    p0 = ones(N, float)\n",
        "    p1 = copy(x)\n",
        "    for k in range (1,N):\n",
        "      p0, p1 = p1, ((2*k+1)*x*p1-k*p0)/(k+1)\n",
        "    dp = (N+1)*(p0-x*p1)/(1-x*x)\n",
        "    dx = p1/dp\n",
        "    x-=dx\n",
        "    delta = max(abs(dx))\n",
        "\n",
        "  #2.6 Calculate weights\n",
        "  w = 2*(N+1)*(N+1)/(N*N*(1-x*x)*dp*dp)\n",
        "\n",
        "  return x,w\n",
        "\n",
        "#2.7 Defining gaussxwab function\n",
        "def gaussxwab(N, a_, b_):\n",
        "  \"\"\"\n",
        "  Uses gaussxw(N) to calculate positions and wieghts then performs the\n",
        "  transformation. Returns arrays x and w for any interval [a,b] specified\n",
        "  \"\"\"\n",
        "  x,w = gaussxw(N)\n",
        "  return 0.5*(b_-a_)*x + 0.5*(b_+a_), 0.5*(b_-a_)*w\n",
        "\n",
        "\n",
        "\n",
        "\n",
        "#2.8 Defining Gaussian Quadrature Integral Function\n",
        "def Gauss_Integral(N=3, a_=0, b_=5, Display_Text=False, **kwargs):\n",
        "  \"\"\"\n",
        "  Evaluates integrals using the Gaussian Quadrature Method\n",
        "  a_ is lower limit; b_ is upper limit; N is the number of sample points;\n",
        "  Display_Text toggles between returning the area (False) and returning the\n",
        "  accompanying text.\n",
        "  \"\"\"\n",
        "  #2.9 Calls the gaussxw(N) function to calculate sample points and weights\n",
        "  x,w = gaussxw(N)\n",
        "  xp = 0.5*(b_-a_)*x +0.5*(b_+a_)\n",
        "  wp = 0.5*(b_-a_)*w\n",
        "\n",
        "  #2.10 This is the initial value of partial sum s\n",
        "  s = 0.\n",
        "\n",
        "  #2.11 This loop does the integrating by adding the product of f(x)\n",
        "  # evaluated at the computed points and the appropriate weight computed by\n",
        "  # gaussxw(N)\n",
        "  for k in range (N):\n",
        "    s+= wp[k]*f(xp[k])\n",
        "\n",
        "  if Display_Text == True:\n",
        "    print(f\"Area: {s}; No. of sample points: {N}\")\n",
        "\n",
        "  else:\n",
        "    return s\n",
        "\n",
        "#2.12 Calculating the integral\n",
        "Gauss_Integral(N=3, Display_Text=True)\n",
        "\n",
        "\n"
      ],
      "execution_count": null,
      "outputs": [
        {
          "output_type": "stream",
          "name": "stdout",
          "text": [
            "Area: 1450.0000000000023; No. of sample points: 3\n"
          ]
        }
      ]
    },
    {
      "cell_type": "markdown",
      "source": [
        "Given that the Gaussian quadrature method with $N$ sample points is only able to exactly compute for the value of the integral of a polynomial of degree $N-1$, the error we see here is due to both machine precision and the inherent error of the Gaussian quadrature method (We have 3 sample points, but we're integrating a degree 4 polynomial).\n",
        "\n",
        "Still, compared to the Trapezoidal rule and Simpson's rule methods, Gaussian quadrature is still superior in terms of accuracy for this application."
      ],
      "metadata": {
        "id": "LH8THshTKgRi"
      }
    },
    {
      "cell_type": "markdown",
      "metadata": {
        "id": "HceOjNu-VfN9"
      },
      "source": [
        "### PROBLEM 3\n",
        "\n",
        "**Physics Application: Anharmonic Oscillator**\n",
        "\n",
        "_Refer to Exercise 5.10 of the Newman text._ Consider an anharmonic oscillator with potential $V(x)$ symmetric about $x = 0$. Let us set our anharmonic oscillator going with amplitude $a$. That is, at $t = 0$ we release it from rest at position $x = a$ and it swings back towards the origin. Then at $t = 0$ we have $dx/dt = 0$ and the equation for its total energy becomes $E = V(a)$, i.e., the total energy of the particle is given in terms of the amplitude.\n",
        "\n",
        "When the particle reaches the origin for the first time, it has gone through one quarter of a period of the oscillator. The period $T$ is given by: $$ T = \\sqrt{8m} \\int_0^a \\frac{dx}{\\sqrt{V(a)-V(x)}}. $$\n",
        "\n",
        "1. Suppose the potential is $V(x) = x^4$ and the mass of the particle is $m = 1$. Write a Python function that calculates the period of the oscillator for given amplitude a using Gaussian quadrature with $N = 20$ points. Describe each step clearly and concisely. *(20 pts.)*\n",
        "\n",
        "2. Use your function to make a graph of the period for amplitudes ranging from $a = 0$ to $a = 2$. Describe the behavior you find and explain these results clearly and concisely. *(20 pts.)*"
      ]
    },
    {
      "cell_type": "code",
      "metadata": {
        "id": "p28JF-OQYock",
        "colab": {
          "base_uri": "https://localhost:8080/",
          "height": 516
        },
        "outputId": "cba4d678-f36a-41a5-fff0-1e390c7cb47c"
      },
      "source": [
        "#3.1 Importing necessary packages\n",
        "import matplotlib.pyplot as plt\n",
        "import numpy as np\n",
        "\n",
        "#3.2 Defining potential V(x)\n",
        "def V(x):\n",
        "  return x**4\n",
        "\n",
        "#3.4 Defining Integrand function g(x,a,m)\n",
        "#V(amplitude) is the energy at the turning point, which is also the total energy\n",
        "#given that the system is conservative and that the kinetic energy is zero there.\n",
        "def g(x,amplitude,mass, **kwargs):\n",
        "  return ((8*mass)**0.5)/((V(amplitude)-V(x))**0.5)\n",
        "\n",
        "#3.5 We'll adopt the Gaussian quadrature code and make a few modifications\n",
        "\n",
        "#2.3 Defining the gaussxw function from Appendix E of Newman\n",
        "def gaussxw(N):\n",
        "  \"\"\"\n",
        "  This function calculates the sample points and weights\n",
        "  needed to perorm Gaussian quadrature.\n",
        "  \"\"\"\n",
        "\n",
        "  #2.4 Initial approximation of roots of Legendre Polynomial\n",
        "  a_ = np.linspace(3, 4*N-2, N)/(4*N+2)\n",
        "  x = np.cos(np.pi*a_+1/(8*N*N*np.tan(a_)))\n",
        "\n",
        "  #2.5 Find Roots using Newton's method\n",
        "  epsilon = 1e-15\n",
        "  delta = 1.\n",
        "  while delta>epsilon:\n",
        "    p0 = np.ones(N, float)\n",
        "    p1 = np.copy(x)\n",
        "    for k in range (1,N):\n",
        "      p0, p1 = p1, ((2*k+1)*x*p1-k*p0)/(k+1)\n",
        "    dp = (N+1)*(p0-x*p1)/(1-x*x)\n",
        "    dx = p1/dp\n",
        "    x-=dx\n",
        "    delta = max(abs(dx))\n",
        "\n",
        "  #2.6 Calculate weights\n",
        "  w = 2*(N+1)*(N+1)/(N*N*(1-x*x)*dp*dp)\n",
        "\n",
        "  return x,w\n",
        "\n",
        "#2.7 Defining gaussxwab function\n",
        "def gaussxwab(N, a_, a):\n",
        "  \"\"\"\n",
        "  Uses gaussxw(N) to calculate positions and wieghts then performs the\n",
        "  transformation. Returns arrays x and w for any interval [a,b] specified\n",
        "  \"\"\"\n",
        "  x,w = gaussxw(N)\n",
        "  return 0.5*(a-a_)*x + 0.5*(a+a_), 0.5*(a-a_)*w\n",
        "\n",
        "\n",
        "\n",
        "\n",
        "#3.6 Defining Period T function by adopting Gaussian Quadrature Integral\n",
        "# Function Code\n",
        "def Period_T(N=20, a_=0., a=2., m=1., Display_Text=False, **kwargs):\n",
        "  \"\"\"\n",
        "  Evaluates Period T integral using the Gaussian Quadrature Method.\n",
        "  \"\"\"\n",
        "  #2.9 Calls the gaussxw(N) function to calculate sample points and weights\n",
        "  x,w = gaussxw(N)\n",
        "  xp = 0.5*(a-a_)*x +0.5*(a+a_)\n",
        "  wp = 0.5*(a-a_)*w\n",
        "\n",
        "  #2.10 This is the initial value of partial sum s\n",
        "  s = 0.\n",
        "\n",
        "  #3.7 This loop does the integrating by adding the product of g(x)\n",
        "  # evaluated at the computed points and the appropriate weight computed by\n",
        "  # gaussxw(N)\n",
        "  # here, we modified the input function to accomodate mass and amplitude inputs\n",
        "  for k in range (N):\n",
        "    s+= wp[k]*g(x=xp[k], amplitude=a, mass=m)\n",
        "\n",
        "  if Display_Text == True:\n",
        "    print(f\"Period: {s} [time units]; No. of sample points: {N}\")\n",
        "\n",
        "  else:\n",
        "    return s\n",
        "\n",
        "#3.8 Now, we make a function to use for plotting the behavior of T as we vary a\n",
        "def sample_points_T_a(sample_N=10, eval_a1=0, eval_a2=2, use_T=True, **kwargs):\n",
        "  \"\"\"\n",
        "  When use_T is True,\n",
        "  Takes sample_N sample points for the period function to be evaluated\n",
        "  from points eval_a1 to eval_2.\n",
        "\n",
        "  otherwise,\n",
        "  Takes sample_N points of the amplitude a\n",
        "\n",
        "  The points are evenly spaced\n",
        "\n",
        "  After calculation, the points are put into an np array.\n",
        "  \"\"\"\n",
        "  #3.9 Defining uniform interval h\n",
        "  h = (eval_a2 - eval_a1)/sample_N\n",
        "\n",
        "  if use_T == True:\n",
        "    #3.10 Initializing sample period T points array\n",
        "    sample_T = np.empty(sample_N,float)\n",
        "\n",
        "    #3.11 Evaluates Period_T at each amplitude point separated by h from\n",
        "    #amplitude eval_a1 to eval_a2, and puts the result in an array\n",
        "    for i in range(sample_N):\n",
        "      sample_T[i] = Period_T(N=20, a_=0., a=(eval_a1+i*h), m=1.)\n",
        "\n",
        "    return sample_T\n",
        "\n",
        "  else:\n",
        "    #3.12 Initializing sample amplitude a points array\n",
        "    sample_a =  np.empty(sample_N,float)\n",
        "\n",
        "    #3.13 Puts each amplitude point separated by h from eval_a1 to eval_a2 into\n",
        "    #an array. Given the same sample_N, eval_a1 and eval_a2, this makes an array\n",
        "    #of points used to evaluate Period_T when use_T is True\n",
        "    for i in range(sample_N):\n",
        "      sample_a[i] = a=(eval_a1+i*h)\n",
        "\n",
        "    return sample_a\n",
        "\n",
        "#3.14 These are the arrays we will actually use for plotting\n",
        "T_points = sample_points_T_a(N=10)\n",
        "a_points = sample_points_T_a(N=10,use_T=False)\n",
        "\n",
        "#3.15 Plotting Period T as a function of amplitude a\n",
        "fig, ax = plt.subplots()\n",
        "ax.plot(a_points, T_points, marker=\"o\", linestyle=\"--\", color=\"green\")\n",
        "\n",
        "#3.16 Setting Labels\n",
        "ax.set_xlabel(\"Amplitude a\")\n",
        "ax.set_ylabel(\"Period T\")\n",
        "\n",
        "#3.16 The graph shown is only able to show 9 points and connects each point\n",
        "plt.show()\n",
        "\n"
      ],
      "execution_count": null,
      "outputs": [
        {
          "output_type": "stream",
          "name": "stderr",
          "text": [
            "<ipython-input-6-57284a6a7370>:13: RuntimeWarning: divide by zero encountered in double_scalars\n",
            "  return ((8*mass)**0.5)/((V(amplitude)-V(x))**0.5)\n",
            "<ipython-input-6-57284a6a7370>:77: RuntimeWarning: invalid value encountered in double_scalars\n",
            "  s+= wp[k]*g(x=xp[k], amplitude=a, mass=m)\n"
          ]
        },
        {
          "output_type": "display_data",
          "data": {
            "text/plain": [
              "<Figure size 640x480 with 1 Axes>"
            ],
            "image/png": "[encoded data removed]"
          },
          "metadata": {}
        }
      ]
    },
    {
      "cell_type": "markdown",
      "source": [
        "As seen on the graph, the period decreases as we increase the amplitude. This means that the frequency increases as we increase the amplitude. In other words, the oscillations get faster even though the amount needed to be travelled increases. This suggests that the restoring force of the oscillator must be increasing with the amplitude for this behavior to take place.\n",
        "\n",
        "On the other hand, as the amplitude approaches zero, the period approaches infinity, indicating that the oscillations get slower as the amplitude decreases."
      ],
      "metadata": {
        "id": "q9Xw5ey48pMp"
      }
    }
  ]
}